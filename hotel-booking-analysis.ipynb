{
 "cells": [
  {
   "cell_type": "code",
   "execution_count": 1,
   "id": "2556bfec",
   "metadata": {
    "_cell_guid": "b1076dfc-b9ad-4769-8c92-a6c4dae69d19",
    "_uuid": "8f2839f25d086af736a60e9eeb907d3b93b6e0e5",
    "execution": {
     "iopub.execute_input": "2023-01-21T13:51:40.475041Z",
     "iopub.status.busy": "2023-01-21T13:51:40.474569Z",
     "iopub.status.idle": "2023-01-21T13:51:40.494019Z",
     "shell.execute_reply": "2023-01-21T13:51:40.492767Z"
    },
    "papermill": {
     "duration": 0.050667,
     "end_time": "2023-01-21T13:51:40.496872",
     "exception": false,
     "start_time": "2023-01-21T13:51:40.446205",
     "status": "completed"
    },
    "scrolled": true,
    "tags": []
   },
   "outputs": [
    {
     "name": "stdout",
     "output_type": "stream",
     "text": [
      "/kaggle/input/hotel-booking-demand/hotel_bookings.csv\n"
     ]
    }
   ],
   "source": [
    "# This Python 3 environment comes with many helpful analytics libraries installed\n",
    "# It is defined by the kaggle/python Docker image: https://github.com/kaggle/docker-python\n",
    "# For example, here's several helpful packages to load\n",
    "\n",
    "import numpy as np # linear algebra\n",
    "import pandas as pd # data processing, CSV file I/O (e.g. pd.read_csv)\n",
    "\n",
    "# Input data files are available in the read-only \"../input/\" directory\n",
    "# For example, running this (by clicking run or pressing Shift+Enter) will list all files under the input directory\n",
    "\n",
    "import os\n",
    "for dirname, _, filenames in os.walk('/kaggle/input'):\n",
    "    for filename in filenames:\n",
    "        print(os.path.join(dirname, filename))\n",
    "\n",
    "# You can write up to 20GB to the current directory (/kaggle/working/) that gets preserved as output when you create a version using \"Save & Run All\" \n",
    "# You can also write temporary files to /kaggle/temp/, but they won't be saved outside of the current session"
   ]
  },
  {
   "cell_type": "code",
   "execution_count": 2,
   "id": "2f880422",
   "metadata": {
    "execution": {
     "iopub.execute_input": "2023-01-21T13:51:40.547072Z",
     "iopub.status.busy": "2023-01-21T13:51:40.546341Z",
     "iopub.status.idle": "2023-01-21T13:51:41.662962Z",
     "shell.execute_reply": "2023-01-21T13:51:41.661924Z"
    },
    "papermill": {
     "duration": 1.144557,
     "end_time": "2023-01-21T13:51:41.665616",
     "exception": false,
     "start_time": "2023-01-21T13:51:40.521059",
     "status": "completed"
    },
    "tags": []
   },
   "outputs": [],
   "source": [
    "import matplotlib.pyplot as plt\n",
    "import pandas as pd\n",
    "import numpy as np\n",
    "import matplotlib.pyplot as plt\n",
    "import seaborn as sns\n",
    "from matplotlib import pyplot as plt\n",
    "\n"
   ]
  },
  {
   "cell_type": "markdown",
   "id": "5ba9f9e7",
   "metadata": {
    "execution": {
     "iopub.execute_input": "2022-12-21T05:57:19.676396Z",
     "iopub.status.busy": "2022-12-21T05:57:19.676004Z",
     "iopub.status.idle": "2022-12-21T05:57:20.035673Z",
     "shell.execute_reply": "2022-12-21T05:57:20.034501Z",
     "shell.execute_reply.started": "2022-12-21T05:57:19.676365Z"
    },
    "papermill": {
     "duration": 0.02311,
     "end_time": "2023-01-21T13:51:41.713180",
     "exception": false,
     "start_time": "2023-01-21T13:51:41.690070",
     "status": "completed"
    },
    "tags": []
   },
   "source": [
    "df=pd.read_csv(\"/kaggle/input/hotel-booking-demand/hotel_bookings.csv\")\n",
    "df.head()\n"
   ]
  },
  {
   "cell_type": "code",
   "execution_count": 3,
   "id": "65521987",
   "metadata": {
    "execution": {
     "iopub.execute_input": "2023-01-21T13:51:41.762361Z",
     "iopub.status.busy": "2023-01-21T13:51:41.761639Z",
     "iopub.status.idle": "2023-01-21T13:51:42.383952Z",
     "shell.execute_reply": "2023-01-21T13:51:42.382931Z"
    },
    "papermill": {
     "duration": 0.649813,
     "end_time": "2023-01-21T13:51:42.386392",
     "exception": false,
     "start_time": "2023-01-21T13:51:41.736579",
     "status": "completed"
    },
    "tags": []
   },
   "outputs": [
    {
     "data": {
      "text/html": [
       "<div>\n",
       "<style scoped>\n",
       "    .dataframe tbody tr th:only-of-type {\n",
       "        vertical-align: middle;\n",
       "    }\n",
       "\n",
       "    .dataframe tbody tr th {\n",
       "        vertical-align: top;\n",
       "    }\n",
       "\n",
       "    .dataframe thead th {\n",
       "        text-align: right;\n",
       "    }\n",
       "</style>\n",
       "<table border=\"1\" class=\"dataframe\">\n",
       "  <thead>\n",
       "    <tr style=\"text-align: right;\">\n",
       "      <th></th>\n",
       "      <th>hotel</th>\n",
       "      <th>is_canceled</th>\n",
       "      <th>lead_time</th>\n",
       "      <th>arrival_date_year</th>\n",
       "      <th>arrival_date_month</th>\n",
       "      <th>arrival_date_week_number</th>\n",
       "      <th>arrival_date_day_of_month</th>\n",
       "      <th>stays_in_weekend_nights</th>\n",
       "      <th>stays_in_week_nights</th>\n",
       "      <th>adults</th>\n",
       "      <th>...</th>\n",
       "      <th>deposit_type</th>\n",
       "      <th>agent</th>\n",
       "      <th>company</th>\n",
       "      <th>days_in_waiting_list</th>\n",
       "      <th>customer_type</th>\n",
       "      <th>adr</th>\n",
       "      <th>required_car_parking_spaces</th>\n",
       "      <th>total_of_special_requests</th>\n",
       "      <th>reservation_status</th>\n",
       "      <th>reservation_status_date</th>\n",
       "    </tr>\n",
       "  </thead>\n",
       "  <tbody>\n",
       "    <tr>\n",
       "      <th>0</th>\n",
       "      <td>Resort Hotel</td>\n",
       "      <td>0</td>\n",
       "      <td>342</td>\n",
       "      <td>2015</td>\n",
       "      <td>July</td>\n",
       "      <td>27</td>\n",
       "      <td>1</td>\n",
       "      <td>0</td>\n",
       "      <td>0</td>\n",
       "      <td>2</td>\n",
       "      <td>...</td>\n",
       "      <td>No Deposit</td>\n",
       "      <td>NaN</td>\n",
       "      <td>NaN</td>\n",
       "      <td>0</td>\n",
       "      <td>Transient</td>\n",
       "      <td>0.0</td>\n",
       "      <td>0</td>\n",
       "      <td>0</td>\n",
       "      <td>Check-Out</td>\n",
       "      <td>2015-07-01</td>\n",
       "    </tr>\n",
       "    <tr>\n",
       "      <th>1</th>\n",
       "      <td>Resort Hotel</td>\n",
       "      <td>0</td>\n",
       "      <td>737</td>\n",
       "      <td>2015</td>\n",
       "      <td>July</td>\n",
       "      <td>27</td>\n",
       "      <td>1</td>\n",
       "      <td>0</td>\n",
       "      <td>0</td>\n",
       "      <td>2</td>\n",
       "      <td>...</td>\n",
       "      <td>No Deposit</td>\n",
       "      <td>NaN</td>\n",
       "      <td>NaN</td>\n",
       "      <td>0</td>\n",
       "      <td>Transient</td>\n",
       "      <td>0.0</td>\n",
       "      <td>0</td>\n",
       "      <td>0</td>\n",
       "      <td>Check-Out</td>\n",
       "      <td>2015-07-01</td>\n",
       "    </tr>\n",
       "    <tr>\n",
       "      <th>2</th>\n",
       "      <td>Resort Hotel</td>\n",
       "      <td>0</td>\n",
       "      <td>7</td>\n",
       "      <td>2015</td>\n",
       "      <td>July</td>\n",
       "      <td>27</td>\n",
       "      <td>1</td>\n",
       "      <td>0</td>\n",
       "      <td>1</td>\n",
       "      <td>1</td>\n",
       "      <td>...</td>\n",
       "      <td>No Deposit</td>\n",
       "      <td>NaN</td>\n",
       "      <td>NaN</td>\n",
       "      <td>0</td>\n",
       "      <td>Transient</td>\n",
       "      <td>75.0</td>\n",
       "      <td>0</td>\n",
       "      <td>0</td>\n",
       "      <td>Check-Out</td>\n",
       "      <td>2015-07-02</td>\n",
       "    </tr>\n",
       "    <tr>\n",
       "      <th>3</th>\n",
       "      <td>Resort Hotel</td>\n",
       "      <td>0</td>\n",
       "      <td>13</td>\n",
       "      <td>2015</td>\n",
       "      <td>July</td>\n",
       "      <td>27</td>\n",
       "      <td>1</td>\n",
       "      <td>0</td>\n",
       "      <td>1</td>\n",
       "      <td>1</td>\n",
       "      <td>...</td>\n",
       "      <td>No Deposit</td>\n",
       "      <td>304.0</td>\n",
       "      <td>NaN</td>\n",
       "      <td>0</td>\n",
       "      <td>Transient</td>\n",
       "      <td>75.0</td>\n",
       "      <td>0</td>\n",
       "      <td>0</td>\n",
       "      <td>Check-Out</td>\n",
       "      <td>2015-07-02</td>\n",
       "    </tr>\n",
       "    <tr>\n",
       "      <th>4</th>\n",
       "      <td>Resort Hotel</td>\n",
       "      <td>0</td>\n",
       "      <td>14</td>\n",
       "      <td>2015</td>\n",
       "      <td>July</td>\n",
       "      <td>27</td>\n",
       "      <td>1</td>\n",
       "      <td>0</td>\n",
       "      <td>2</td>\n",
       "      <td>2</td>\n",
       "      <td>...</td>\n",
       "      <td>No Deposit</td>\n",
       "      <td>240.0</td>\n",
       "      <td>NaN</td>\n",
       "      <td>0</td>\n",
       "      <td>Transient</td>\n",
       "      <td>98.0</td>\n",
       "      <td>0</td>\n",
       "      <td>1</td>\n",
       "      <td>Check-Out</td>\n",
       "      <td>2015-07-03</td>\n",
       "    </tr>\n",
       "  </tbody>\n",
       "</table>\n",
       "<p>5 rows × 32 columns</p>\n",
       "</div>"
      ],
      "text/plain": [
       "          hotel  is_canceled  lead_time  arrival_date_year arrival_date_month  \\\n",
       "0  Resort Hotel            0        342               2015               July   \n",
       "1  Resort Hotel            0        737               2015               July   \n",
       "2  Resort Hotel            0          7               2015               July   \n",
       "3  Resort Hotel            0         13               2015               July   \n",
       "4  Resort Hotel            0         14               2015               July   \n",
       "\n",
       "   arrival_date_week_number  arrival_date_day_of_month  \\\n",
       "0                        27                          1   \n",
       "1                        27                          1   \n",
       "2                        27                          1   \n",
       "3                        27                          1   \n",
       "4                        27                          1   \n",
       "\n",
       "   stays_in_weekend_nights  stays_in_week_nights  adults  ...  deposit_type  \\\n",
       "0                        0                     0       2  ...    No Deposit   \n",
       "1                        0                     0       2  ...    No Deposit   \n",
       "2                        0                     1       1  ...    No Deposit   \n",
       "3                        0                     1       1  ...    No Deposit   \n",
       "4                        0                     2       2  ...    No Deposit   \n",
       "\n",
       "   agent company days_in_waiting_list customer_type   adr  \\\n",
       "0    NaN     NaN                    0     Transient   0.0   \n",
       "1    NaN     NaN                    0     Transient   0.0   \n",
       "2    NaN     NaN                    0     Transient  75.0   \n",
       "3  304.0     NaN                    0     Transient  75.0   \n",
       "4  240.0     NaN                    0     Transient  98.0   \n",
       "\n",
       "   required_car_parking_spaces  total_of_special_requests  reservation_status  \\\n",
       "0                            0                          0           Check-Out   \n",
       "1                            0                          0           Check-Out   \n",
       "2                            0                          0           Check-Out   \n",
       "3                            0                          0           Check-Out   \n",
       "4                            0                          1           Check-Out   \n",
       "\n",
       "  reservation_status_date  \n",
       "0              2015-07-01  \n",
       "1              2015-07-01  \n",
       "2              2015-07-02  \n",
       "3              2015-07-02  \n",
       "4              2015-07-03  \n",
       "\n",
       "[5 rows x 32 columns]"
      ]
     },
     "execution_count": 3,
     "metadata": {},
     "output_type": "execute_result"
    }
   ],
   "source": [
    "df=pd.read_csv(\"/kaggle/input/hotel-booking-demand/hotel_bookings.csv\")\n",
    "df.head()"
   ]
  },
  {
   "cell_type": "markdown",
   "id": "5ed23bc1",
   "metadata": {
    "papermill": {
     "duration": 0.023781,
     "end_time": "2023-01-21T13:51:42.434511",
     "exception": false,
     "start_time": "2023-01-21T13:51:42.410730",
     "status": "completed"
    },
    "tags": []
   },
   "source": [
    "## Step 1 : Uderstanding of data "
   ]
  },
  {
   "cell_type": "markdown",
   "id": "15746f8f",
   "metadata": {
    "execution": {
     "iopub.execute_input": "2023-01-18T16:15:54.847194Z",
     "iopub.status.busy": "2023-01-18T16:15:54.846568Z",
     "iopub.status.idle": "2023-01-18T16:15:54.852984Z",
     "shell.execute_reply": "2023-01-18T16:15:54.851146Z",
     "shell.execute_reply.started": "2023-01-18T16:15:54.847165Z"
    },
    "papermill": {
     "duration": 0.024875,
     "end_time": "2023-01-21T13:51:42.483969",
     "exception": false,
     "start_time": "2023-01-21T13:51:42.459094",
     "status": "completed"
    },
    "tags": []
   },
   "source": [
    "### checking top 10 rows of dataset"
   ]
  },
  {
   "cell_type": "code",
   "execution_count": 4,
   "id": "f2996d3c",
   "metadata": {
    "execution": {
     "iopub.execute_input": "2023-01-21T13:51:42.534103Z",
     "iopub.status.busy": "2023-01-21T13:51:42.533659Z",
     "iopub.status.idle": "2023-01-21T13:51:42.561086Z",
     "shell.execute_reply": "2023-01-21T13:51:42.560249Z"
    },
    "papermill": {
     "duration": 0.055122,
     "end_time": "2023-01-21T13:51:42.563204",
     "exception": false,
     "start_time": "2023-01-21T13:51:42.508082",
     "status": "completed"
    },
    "tags": []
   },
   "outputs": [
    {
     "data": {
      "text/html": [
       "<div>\n",
       "<style scoped>\n",
       "    .dataframe tbody tr th:only-of-type {\n",
       "        vertical-align: middle;\n",
       "    }\n",
       "\n",
       "    .dataframe tbody tr th {\n",
       "        vertical-align: top;\n",
       "    }\n",
       "\n",
       "    .dataframe thead th {\n",
       "        text-align: right;\n",
       "    }\n",
       "</style>\n",
       "<table border=\"1\" class=\"dataframe\">\n",
       "  <thead>\n",
       "    <tr style=\"text-align: right;\">\n",
       "      <th></th>\n",
       "      <th>hotel</th>\n",
       "      <th>is_canceled</th>\n",
       "      <th>lead_time</th>\n",
       "      <th>arrival_date_year</th>\n",
       "      <th>arrival_date_month</th>\n",
       "      <th>arrival_date_week_number</th>\n",
       "      <th>arrival_date_day_of_month</th>\n",
       "      <th>stays_in_weekend_nights</th>\n",
       "      <th>stays_in_week_nights</th>\n",
       "      <th>adults</th>\n",
       "      <th>...</th>\n",
       "      <th>deposit_type</th>\n",
       "      <th>agent</th>\n",
       "      <th>company</th>\n",
       "      <th>days_in_waiting_list</th>\n",
       "      <th>customer_type</th>\n",
       "      <th>adr</th>\n",
       "      <th>required_car_parking_spaces</th>\n",
       "      <th>total_of_special_requests</th>\n",
       "      <th>reservation_status</th>\n",
       "      <th>reservation_status_date</th>\n",
       "    </tr>\n",
       "  </thead>\n",
       "  <tbody>\n",
       "    <tr>\n",
       "      <th>0</th>\n",
       "      <td>Resort Hotel</td>\n",
       "      <td>0</td>\n",
       "      <td>342</td>\n",
       "      <td>2015</td>\n",
       "      <td>July</td>\n",
       "      <td>27</td>\n",
       "      <td>1</td>\n",
       "      <td>0</td>\n",
       "      <td>0</td>\n",
       "      <td>2</td>\n",
       "      <td>...</td>\n",
       "      <td>No Deposit</td>\n",
       "      <td>NaN</td>\n",
       "      <td>NaN</td>\n",
       "      <td>0</td>\n",
       "      <td>Transient</td>\n",
       "      <td>0.0</td>\n",
       "      <td>0</td>\n",
       "      <td>0</td>\n",
       "      <td>Check-Out</td>\n",
       "      <td>2015-07-01</td>\n",
       "    </tr>\n",
       "    <tr>\n",
       "      <th>1</th>\n",
       "      <td>Resort Hotel</td>\n",
       "      <td>0</td>\n",
       "      <td>737</td>\n",
       "      <td>2015</td>\n",
       "      <td>July</td>\n",
       "      <td>27</td>\n",
       "      <td>1</td>\n",
       "      <td>0</td>\n",
       "      <td>0</td>\n",
       "      <td>2</td>\n",
       "      <td>...</td>\n",
       "      <td>No Deposit</td>\n",
       "      <td>NaN</td>\n",
       "      <td>NaN</td>\n",
       "      <td>0</td>\n",
       "      <td>Transient</td>\n",
       "      <td>0.0</td>\n",
       "      <td>0</td>\n",
       "      <td>0</td>\n",
       "      <td>Check-Out</td>\n",
       "      <td>2015-07-01</td>\n",
       "    </tr>\n",
       "    <tr>\n",
       "      <th>2</th>\n",
       "      <td>Resort Hotel</td>\n",
       "      <td>0</td>\n",
       "      <td>7</td>\n",
       "      <td>2015</td>\n",
       "      <td>July</td>\n",
       "      <td>27</td>\n",
       "      <td>1</td>\n",
       "      <td>0</td>\n",
       "      <td>1</td>\n",
       "      <td>1</td>\n",
       "      <td>...</td>\n",
       "      <td>No Deposit</td>\n",
       "      <td>NaN</td>\n",
       "      <td>NaN</td>\n",
       "      <td>0</td>\n",
       "      <td>Transient</td>\n",
       "      <td>75.0</td>\n",
       "      <td>0</td>\n",
       "      <td>0</td>\n",
       "      <td>Check-Out</td>\n",
       "      <td>2015-07-02</td>\n",
       "    </tr>\n",
       "    <tr>\n",
       "      <th>3</th>\n",
       "      <td>Resort Hotel</td>\n",
       "      <td>0</td>\n",
       "      <td>13</td>\n",
       "      <td>2015</td>\n",
       "      <td>July</td>\n",
       "      <td>27</td>\n",
       "      <td>1</td>\n",
       "      <td>0</td>\n",
       "      <td>1</td>\n",
       "      <td>1</td>\n",
       "      <td>...</td>\n",
       "      <td>No Deposit</td>\n",
       "      <td>304.0</td>\n",
       "      <td>NaN</td>\n",
       "      <td>0</td>\n",
       "      <td>Transient</td>\n",
       "      <td>75.0</td>\n",
       "      <td>0</td>\n",
       "      <td>0</td>\n",
       "      <td>Check-Out</td>\n",
       "      <td>2015-07-02</td>\n",
       "    </tr>\n",
       "    <tr>\n",
       "      <th>4</th>\n",
       "      <td>Resort Hotel</td>\n",
       "      <td>0</td>\n",
       "      <td>14</td>\n",
       "      <td>2015</td>\n",
       "      <td>July</td>\n",
       "      <td>27</td>\n",
       "      <td>1</td>\n",
       "      <td>0</td>\n",
       "      <td>2</td>\n",
       "      <td>2</td>\n",
       "      <td>...</td>\n",
       "      <td>No Deposit</td>\n",
       "      <td>240.0</td>\n",
       "      <td>NaN</td>\n",
       "      <td>0</td>\n",
       "      <td>Transient</td>\n",
       "      <td>98.0</td>\n",
       "      <td>0</td>\n",
       "      <td>1</td>\n",
       "      <td>Check-Out</td>\n",
       "      <td>2015-07-03</td>\n",
       "    </tr>\n",
       "    <tr>\n",
       "      <th>5</th>\n",
       "      <td>Resort Hotel</td>\n",
       "      <td>0</td>\n",
       "      <td>14</td>\n",
       "      <td>2015</td>\n",
       "      <td>July</td>\n",
       "      <td>27</td>\n",
       "      <td>1</td>\n",
       "      <td>0</td>\n",
       "      <td>2</td>\n",
       "      <td>2</td>\n",
       "      <td>...</td>\n",
       "      <td>No Deposit</td>\n",
       "      <td>240.0</td>\n",
       "      <td>NaN</td>\n",
       "      <td>0</td>\n",
       "      <td>Transient</td>\n",
       "      <td>98.0</td>\n",
       "      <td>0</td>\n",
       "      <td>1</td>\n",
       "      <td>Check-Out</td>\n",
       "      <td>2015-07-03</td>\n",
       "    </tr>\n",
       "    <tr>\n",
       "      <th>6</th>\n",
       "      <td>Resort Hotel</td>\n",
       "      <td>0</td>\n",
       "      <td>0</td>\n",
       "      <td>2015</td>\n",
       "      <td>July</td>\n",
       "      <td>27</td>\n",
       "      <td>1</td>\n",
       "      <td>0</td>\n",
       "      <td>2</td>\n",
       "      <td>2</td>\n",
       "      <td>...</td>\n",
       "      <td>No Deposit</td>\n",
       "      <td>NaN</td>\n",
       "      <td>NaN</td>\n",
       "      <td>0</td>\n",
       "      <td>Transient</td>\n",
       "      <td>107.0</td>\n",
       "      <td>0</td>\n",
       "      <td>0</td>\n",
       "      <td>Check-Out</td>\n",
       "      <td>2015-07-03</td>\n",
       "    </tr>\n",
       "    <tr>\n",
       "      <th>7</th>\n",
       "      <td>Resort Hotel</td>\n",
       "      <td>0</td>\n",
       "      <td>9</td>\n",
       "      <td>2015</td>\n",
       "      <td>July</td>\n",
       "      <td>27</td>\n",
       "      <td>1</td>\n",
       "      <td>0</td>\n",
       "      <td>2</td>\n",
       "      <td>2</td>\n",
       "      <td>...</td>\n",
       "      <td>No Deposit</td>\n",
       "      <td>303.0</td>\n",
       "      <td>NaN</td>\n",
       "      <td>0</td>\n",
       "      <td>Transient</td>\n",
       "      <td>103.0</td>\n",
       "      <td>0</td>\n",
       "      <td>1</td>\n",
       "      <td>Check-Out</td>\n",
       "      <td>2015-07-03</td>\n",
       "    </tr>\n",
       "    <tr>\n",
       "      <th>8</th>\n",
       "      <td>Resort Hotel</td>\n",
       "      <td>1</td>\n",
       "      <td>85</td>\n",
       "      <td>2015</td>\n",
       "      <td>July</td>\n",
       "      <td>27</td>\n",
       "      <td>1</td>\n",
       "      <td>0</td>\n",
       "      <td>3</td>\n",
       "      <td>2</td>\n",
       "      <td>...</td>\n",
       "      <td>No Deposit</td>\n",
       "      <td>240.0</td>\n",
       "      <td>NaN</td>\n",
       "      <td>0</td>\n",
       "      <td>Transient</td>\n",
       "      <td>82.0</td>\n",
       "      <td>0</td>\n",
       "      <td>1</td>\n",
       "      <td>Canceled</td>\n",
       "      <td>2015-05-06</td>\n",
       "    </tr>\n",
       "    <tr>\n",
       "      <th>9</th>\n",
       "      <td>Resort Hotel</td>\n",
       "      <td>1</td>\n",
       "      <td>75</td>\n",
       "      <td>2015</td>\n",
       "      <td>July</td>\n",
       "      <td>27</td>\n",
       "      <td>1</td>\n",
       "      <td>0</td>\n",
       "      <td>3</td>\n",
       "      <td>2</td>\n",
       "      <td>...</td>\n",
       "      <td>No Deposit</td>\n",
       "      <td>15.0</td>\n",
       "      <td>NaN</td>\n",
       "      <td>0</td>\n",
       "      <td>Transient</td>\n",
       "      <td>105.5</td>\n",
       "      <td>0</td>\n",
       "      <td>0</td>\n",
       "      <td>Canceled</td>\n",
       "      <td>2015-04-22</td>\n",
       "    </tr>\n",
       "  </tbody>\n",
       "</table>\n",
       "<p>10 rows × 32 columns</p>\n",
       "</div>"
      ],
      "text/plain": [
       "          hotel  is_canceled  lead_time  arrival_date_year arrival_date_month  \\\n",
       "0  Resort Hotel            0        342               2015               July   \n",
       "1  Resort Hotel            0        737               2015               July   \n",
       "2  Resort Hotel            0          7               2015               July   \n",
       "3  Resort Hotel            0         13               2015               July   \n",
       "4  Resort Hotel            0         14               2015               July   \n",
       "5  Resort Hotel            0         14               2015               July   \n",
       "6  Resort Hotel            0          0               2015               July   \n",
       "7  Resort Hotel            0          9               2015               July   \n",
       "8  Resort Hotel            1         85               2015               July   \n",
       "9  Resort Hotel            1         75               2015               July   \n",
       "\n",
       "   arrival_date_week_number  arrival_date_day_of_month  \\\n",
       "0                        27                          1   \n",
       "1                        27                          1   \n",
       "2                        27                          1   \n",
       "3                        27                          1   \n",
       "4                        27                          1   \n",
       "5                        27                          1   \n",
       "6                        27                          1   \n",
       "7                        27                          1   \n",
       "8                        27                          1   \n",
       "9                        27                          1   \n",
       "\n",
       "   stays_in_weekend_nights  stays_in_week_nights  adults  ...  deposit_type  \\\n",
       "0                        0                     0       2  ...    No Deposit   \n",
       "1                        0                     0       2  ...    No Deposit   \n",
       "2                        0                     1       1  ...    No Deposit   \n",
       "3                        0                     1       1  ...    No Deposit   \n",
       "4                        0                     2       2  ...    No Deposit   \n",
       "5                        0                     2       2  ...    No Deposit   \n",
       "6                        0                     2       2  ...    No Deposit   \n",
       "7                        0                     2       2  ...    No Deposit   \n",
       "8                        0                     3       2  ...    No Deposit   \n",
       "9                        0                     3       2  ...    No Deposit   \n",
       "\n",
       "   agent company days_in_waiting_list customer_type    adr  \\\n",
       "0    NaN     NaN                    0     Transient    0.0   \n",
       "1    NaN     NaN                    0     Transient    0.0   \n",
       "2    NaN     NaN                    0     Transient   75.0   \n",
       "3  304.0     NaN                    0     Transient   75.0   \n",
       "4  240.0     NaN                    0     Transient   98.0   \n",
       "5  240.0     NaN                    0     Transient   98.0   \n",
       "6    NaN     NaN                    0     Transient  107.0   \n",
       "7  303.0     NaN                    0     Transient  103.0   \n",
       "8  240.0     NaN                    0     Transient   82.0   \n",
       "9   15.0     NaN                    0     Transient  105.5   \n",
       "\n",
       "   required_car_parking_spaces  total_of_special_requests  reservation_status  \\\n",
       "0                            0                          0           Check-Out   \n",
       "1                            0                          0           Check-Out   \n",
       "2                            0                          0           Check-Out   \n",
       "3                            0                          0           Check-Out   \n",
       "4                            0                          1           Check-Out   \n",
       "5                            0                          1           Check-Out   \n",
       "6                            0                          0           Check-Out   \n",
       "7                            0                          1           Check-Out   \n",
       "8                            0                          1            Canceled   \n",
       "9                            0                          0            Canceled   \n",
       "\n",
       "  reservation_status_date  \n",
       "0              2015-07-01  \n",
       "1              2015-07-01  \n",
       "2              2015-07-02  \n",
       "3              2015-07-02  \n",
       "4              2015-07-03  \n",
       "5              2015-07-03  \n",
       "6              2015-07-03  \n",
       "7              2015-07-03  \n",
       "8              2015-05-06  \n",
       "9              2015-04-22  \n",
       "\n",
       "[10 rows x 32 columns]"
      ]
     },
     "execution_count": 4,
     "metadata": {},
     "output_type": "execute_result"
    }
   ],
   "source": [
    "df.head(10)"
   ]
  },
  {
   "cell_type": "markdown",
   "id": "299bfd05",
   "metadata": {
    "papermill": {
     "duration": 0.026301,
     "end_time": "2023-01-21T13:51:42.614767",
     "exception": false,
     "start_time": "2023-01-21T13:51:42.588466",
     "status": "completed"
    },
    "tags": []
   },
   "source": [
    "### checking shape of tha data"
   ]
  },
  {
   "cell_type": "code",
   "execution_count": 5,
   "id": "dc165932",
   "metadata": {
    "execution": {
     "iopub.execute_input": "2023-01-21T13:51:42.666848Z",
     "iopub.status.busy": "2023-01-21T13:51:42.666154Z",
     "iopub.status.idle": "2023-01-21T13:51:42.672735Z",
     "shell.execute_reply": "2023-01-21T13:51:42.671459Z"
    },
    "papermill": {
     "duration": 0.034995,
     "end_time": "2023-01-21T13:51:42.674972",
     "exception": false,
     "start_time": "2023-01-21T13:51:42.639977",
     "status": "completed"
    },
    "tags": []
   },
   "outputs": [
    {
     "data": {
      "text/plain": [
       "(119390, 32)"
      ]
     },
     "execution_count": 5,
     "metadata": {},
     "output_type": "execute_result"
    }
   ],
   "source": [
    "df.shape"
   ]
  },
  {
   "cell_type": "markdown",
   "id": "3d0239df",
   "metadata": {
    "execution": {
     "iopub.execute_input": "2023-01-18T16:01:46.613753Z",
     "iopub.status.busy": "2023-01-18T16:01:46.613264Z",
     "iopub.status.idle": "2023-01-18T16:01:46.648889Z",
     "shell.execute_reply": "2023-01-18T16:01:46.647190Z",
     "shell.execute_reply.started": "2023-01-18T16:01:46.613653Z"
    },
    "papermill": {
     "duration": 0.024458,
     "end_time": "2023-01-21T13:51:42.724154",
     "exception": false,
     "start_time": "2023-01-21T13:51:42.699696",
     "status": "completed"
    },
    "tags": []
   },
   "source": [
    " ### number of rows : 119390\n",
    " ### number of columns : 32"
   ]
  },
  {
   "cell_type": "markdown",
   "id": "c4958ab9",
   "metadata": {
    "papermill": {
     "duration": 0.024449,
     "end_time": "2023-01-21T13:51:42.773373",
     "exception": false,
     "start_time": "2023-01-21T13:51:42.748924",
     "status": "completed"
    },
    "tags": []
   },
   "source": [
    "###  Checking The Data types  OF The Columns."
   ]
  },
  {
   "cell_type": "code",
   "execution_count": 6,
   "id": "dbd97f85",
   "metadata": {
    "execution": {
     "iopub.execute_input": "2023-01-21T13:51:42.825194Z",
     "iopub.status.busy": "2023-01-21T13:51:42.824687Z",
     "iopub.status.idle": "2023-01-21T13:51:42.917793Z",
     "shell.execute_reply": "2023-01-21T13:51:42.916391Z"
    },
    "papermill": {
     "duration": 0.122574,
     "end_time": "2023-01-21T13:51:42.920935",
     "exception": false,
     "start_time": "2023-01-21T13:51:42.798361",
     "status": "completed"
    },
    "tags": []
   },
   "outputs": [
    {
     "name": "stdout",
     "output_type": "stream",
     "text": [
      "<class 'pandas.core.frame.DataFrame'>\n",
      "RangeIndex: 119390 entries, 0 to 119389\n",
      "Data columns (total 32 columns):\n",
      " #   Column                          Non-Null Count   Dtype  \n",
      "---  ------                          --------------   -----  \n",
      " 0   hotel                           119390 non-null  object \n",
      " 1   is_canceled                     119390 non-null  int64  \n",
      " 2   lead_time                       119390 non-null  int64  \n",
      " 3   arrival_date_year               119390 non-null  int64  \n",
      " 4   arrival_date_month              119390 non-null  object \n",
      " 5   arrival_date_week_number        119390 non-null  int64  \n",
      " 6   arrival_date_day_of_month       119390 non-null  int64  \n",
      " 7   stays_in_weekend_nights         119390 non-null  int64  \n",
      " 8   stays_in_week_nights            119390 non-null  int64  \n",
      " 9   adults                          119390 non-null  int64  \n",
      " 10  children                        119386 non-null  float64\n",
      " 11  babies                          119390 non-null  int64  \n",
      " 12  meal                            119390 non-null  object \n",
      " 13  country                         118902 non-null  object \n",
      " 14  market_segment                  119390 non-null  object \n",
      " 15  distribution_channel            119390 non-null  object \n",
      " 16  is_repeated_guest               119390 non-null  int64  \n",
      " 17  previous_cancellations          119390 non-null  int64  \n",
      " 18  previous_bookings_not_canceled  119390 non-null  int64  \n",
      " 19  reserved_room_type              119390 non-null  object \n",
      " 20  assigned_room_type              119390 non-null  object \n",
      " 21  booking_changes                 119390 non-null  int64  \n",
      " 22  deposit_type                    119390 non-null  object \n",
      " 23  agent                           103050 non-null  float64\n",
      " 24  company                         6797 non-null    float64\n",
      " 25  days_in_waiting_list            119390 non-null  int64  \n",
      " 26  customer_type                   119390 non-null  object \n",
      " 27  adr                             119390 non-null  float64\n",
      " 28  required_car_parking_spaces     119390 non-null  int64  \n",
      " 29  total_of_special_requests       119390 non-null  int64  \n",
      " 30  reservation_status              119390 non-null  object \n",
      " 31  reservation_status_date         119390 non-null  object \n",
      "dtypes: float64(4), int64(16), object(12)\n",
      "memory usage: 29.1+ MB\n"
     ]
    }
   ],
   "source": [
    "df.info()"
   ]
  },
  {
   "cell_type": "markdown",
   "id": "62e3f60c",
   "metadata": {
    "papermill": {
     "duration": 0.026156,
     "end_time": "2023-01-21T13:51:42.973417",
     "exception": false,
     "start_time": "2023-01-21T13:51:42.947261",
     "status": "completed"
    },
    "tags": []
   },
   "source": [
    "#### this dataset contain 4 columns  of float type ,16 columns of int type and 12 columns of object type and tha memory usage is 29.1+mb"
   ]
  },
  {
   "cell_type": "markdown",
   "id": "dfd889ed",
   "metadata": {
    "papermill": {
     "duration": 0.025044,
     "end_time": "2023-01-21T13:51:43.023688",
     "exception": false,
     "start_time": "2023-01-21T13:51:42.998644",
     "status": "completed"
    },
    "tags": []
   },
   "source": [
    "## viewing column names"
   ]
  },
  {
   "cell_type": "code",
   "execution_count": 7,
   "id": "c57030e0",
   "metadata": {
    "execution": {
     "iopub.execute_input": "2023-01-21T13:51:43.076385Z",
     "iopub.status.busy": "2023-01-21T13:51:43.075298Z",
     "iopub.status.idle": "2023-01-21T13:51:43.082629Z",
     "shell.execute_reply": "2023-01-21T13:51:43.081698Z"
    },
    "papermill": {
     "duration": 0.035755,
     "end_time": "2023-01-21T13:51:43.084832",
     "exception": false,
     "start_time": "2023-01-21T13:51:43.049077",
     "status": "completed"
    },
    "tags": []
   },
   "outputs": [
    {
     "data": {
      "text/plain": [
       "Index(['hotel', 'is_canceled', 'lead_time', 'arrival_date_year',\n",
       "       'arrival_date_month', 'arrival_date_week_number',\n",
       "       'arrival_date_day_of_month', 'stays_in_weekend_nights',\n",
       "       'stays_in_week_nights', 'adults', 'children', 'babies', 'meal',\n",
       "       'country', 'market_segment', 'distribution_channel',\n",
       "       'is_repeated_guest', 'previous_cancellations',\n",
       "       'previous_bookings_not_canceled', 'reserved_room_type',\n",
       "       'assigned_room_type', 'booking_changes', 'deposit_type', 'agent',\n",
       "       'company', 'days_in_waiting_list', 'customer_type', 'adr',\n",
       "       'required_car_parking_spaces', 'total_of_special_requests',\n",
       "       'reservation_status', 'reservation_status_date'],\n",
       "      dtype='object')"
      ]
     },
     "execution_count": 7,
     "metadata": {},
     "output_type": "execute_result"
    }
   ],
   "source": [
    "df.columns"
   ]
  },
  {
   "cell_type": "markdown",
   "id": "09e0dcc0",
   "metadata": {
    "papermill": {
     "duration": 0.025009,
     "end_time": "2023-01-21T13:51:43.135700",
     "exception": false,
     "start_time": "2023-01-21T13:51:43.110691",
     "status": "completed"
    },
    "tags": []
   },
   "source": [
    "## Checking unique value in each column."
   ]
  },
  {
   "cell_type": "code",
   "execution_count": 8,
   "id": "d766f702",
   "metadata": {
    "_kg_hide-input": false,
    "execution": {
     "iopub.execute_input": "2023-01-21T13:51:43.187939Z",
     "iopub.status.busy": "2023-01-21T13:51:43.187242Z",
     "iopub.status.idle": "2023-01-21T13:51:43.322521Z",
     "shell.execute_reply": "2023-01-21T13:51:43.321612Z"
    },
    "papermill": {
     "duration": 0.163706,
     "end_time": "2023-01-21T13:51:43.324711",
     "exception": false,
     "start_time": "2023-01-21T13:51:43.161005",
     "status": "completed"
    },
    "tags": []
   },
   "outputs": [
    {
     "data": {
      "text/plain": [
       "hotel                                                    [Resort Hotel, City Hotel]\n",
       "is_canceled                                                                  [0, 1]\n",
       "lead_time                         [342, 737, 7, 13, 14, 0, 9, 85, 75, 23, 35, 68...\n",
       "arrival_date_year                                                [2015, 2016, 2017]\n",
       "arrival_date_month                [July, August, September, October, November, D...\n",
       "arrival_date_week_number          [27, 28, 29, 30, 31, 32, 33, 34, 35, 36, 37, 3...\n",
       "arrival_date_day_of_month         [1, 2, 3, 4, 5, 6, 7, 8, 9, 10, 11, 12, 13, 14...\n",
       "stays_in_weekend_nights           [0, 1, 2, 4, 3, 6, 13, 8, 5, 7, 12, 9, 16, 18,...\n",
       "stays_in_week_nights              [0, 1, 2, 3, 4, 5, 10, 11, 8, 6, 7, 15, 9, 12,...\n",
       "adults                            [2, 1, 3, 4, 40, 26, 50, 27, 55, 0, 20, 6, 5, 10]\n",
       "children                                            [0.0, 1.0, 2.0, 10.0, 3.0, nan]\n",
       "babies                                                             [0, 1, 2, 10, 9]\n",
       "meal                                                    [BB, FB, HB, SC, Undefined]\n",
       "country                           [PRT, GBR, USA, ESP, IRL, FRA, nan, ROU, NOR, ...\n",
       "market_segment                    [Direct, Corporate, Online TA, Offline TA/TO, ...\n",
       "distribution_channel                     [Direct, Corporate, TA/TO, Undefined, GDS]\n",
       "is_repeated_guest                                                            [0, 1]\n",
       "previous_cancellations            [0, 1, 2, 3, 26, 25, 14, 4, 24, 19, 5, 21, 6, ...\n",
       "previous_bookings_not_canceled    [0, 1, 2, 3, 4, 5, 6, 7, 8, 9, 10, 11, 12, 13,...\n",
       "reserved_room_type                                   [C, A, D, E, G, F, H, L, P, B]\n",
       "assigned_room_type                             [C, A, D, E, G, F, I, B, H, P, L, K]\n",
       "booking_changes                   [3, 4, 0, 1, 2, 5, 17, 6, 8, 7, 10, 16, 9, 13,...\n",
       "deposit_type                                   [No Deposit, Refundable, Non Refund]\n",
       "agent                             [nan, 304.0, 240.0, 303.0, 15.0, 241.0, 8.0, 2...\n",
       "company                           [nan, 110.0, 113.0, 270.0, 178.0, 240.0, 154.0...\n",
       "days_in_waiting_list              [0, 50, 47, 65, 122, 75, 101, 150, 125, 14, 60...\n",
       "customer_type                         [Transient, Contract, Transient-Party, Group]\n",
       "adr                               [0.0, 75.0, 98.0, 107.0, 103.0, 82.0, 105.5, 1...\n",
       "required_car_parking_spaces                                         [0, 1, 2, 8, 3]\n",
       "total_of_special_requests                                        [0, 1, 3, 2, 4, 5]\n",
       "reservation_status                                   [Check-Out, Canceled, No-Show]\n",
       "reservation_status_date           [2015-07-01, 2015-07-02, 2015-07-03, 2015-05-0...\n",
       "dtype: object"
      ]
     },
     "execution_count": 8,
     "metadata": {},
     "output_type": "execute_result"
    }
   ],
   "source": [
    "df_unique=df.apply(lambda col: col.unique())\n",
    "df_unique"
   ]
  },
  {
   "cell_type": "markdown",
   "id": "7fabb6d4",
   "metadata": {
    "papermill": {
     "duration": 0.025209,
     "end_time": "2023-01-21T13:51:43.375711",
     "exception": false,
     "start_time": "2023-01-21T13:51:43.350502",
     "status": "completed"
    },
    "tags": []
   },
   "source": [
    "### Checking statistical  detail of columns"
   ]
  },
  {
   "cell_type": "code",
   "execution_count": 9,
   "id": "9d67f8aa",
   "metadata": {
    "execution": {
     "iopub.execute_input": "2023-01-21T13:51:43.429807Z",
     "iopub.status.busy": "2023-01-21T13:51:43.429091Z",
     "iopub.status.idle": "2023-01-21T13:51:43.713976Z",
     "shell.execute_reply": "2023-01-21T13:51:43.712886Z"
    },
    "papermill": {
     "duration": 0.314268,
     "end_time": "2023-01-21T13:51:43.716271",
     "exception": false,
     "start_time": "2023-01-21T13:51:43.402003",
     "status": "completed"
    },
    "tags": []
   },
   "outputs": [
    {
     "data": {
      "text/html": [
       "<div>\n",
       "<style scoped>\n",
       "    .dataframe tbody tr th:only-of-type {\n",
       "        vertical-align: middle;\n",
       "    }\n",
       "\n",
       "    .dataframe tbody tr th {\n",
       "        vertical-align: top;\n",
       "    }\n",
       "\n",
       "    .dataframe thead th {\n",
       "        text-align: right;\n",
       "    }\n",
       "</style>\n",
       "<table border=\"1\" class=\"dataframe\">\n",
       "  <thead>\n",
       "    <tr style=\"text-align: right;\">\n",
       "      <th></th>\n",
       "      <th>count</th>\n",
       "      <th>unique</th>\n",
       "      <th>top</th>\n",
       "      <th>freq</th>\n",
       "      <th>mean</th>\n",
       "      <th>std</th>\n",
       "      <th>min</th>\n",
       "      <th>25%</th>\n",
       "      <th>50%</th>\n",
       "      <th>75%</th>\n",
       "      <th>max</th>\n",
       "    </tr>\n",
       "  </thead>\n",
       "  <tbody>\n",
       "    <tr>\n",
       "      <th>hotel</th>\n",
       "      <td>119390</td>\n",
       "      <td>2</td>\n",
       "      <td>City Hotel</td>\n",
       "      <td>79330</td>\n",
       "      <td>NaN</td>\n",
       "      <td>NaN</td>\n",
       "      <td>NaN</td>\n",
       "      <td>NaN</td>\n",
       "      <td>NaN</td>\n",
       "      <td>NaN</td>\n",
       "      <td>NaN</td>\n",
       "    </tr>\n",
       "    <tr>\n",
       "      <th>is_canceled</th>\n",
       "      <td>119390.0</td>\n",
       "      <td>NaN</td>\n",
       "      <td>NaN</td>\n",
       "      <td>NaN</td>\n",
       "      <td>0.370416</td>\n",
       "      <td>0.482918</td>\n",
       "      <td>0.0</td>\n",
       "      <td>0.0</td>\n",
       "      <td>0.0</td>\n",
       "      <td>1.0</td>\n",
       "      <td>1.0</td>\n",
       "    </tr>\n",
       "    <tr>\n",
       "      <th>lead_time</th>\n",
       "      <td>119390.0</td>\n",
       "      <td>NaN</td>\n",
       "      <td>NaN</td>\n",
       "      <td>NaN</td>\n",
       "      <td>104.011416</td>\n",
       "      <td>106.863097</td>\n",
       "      <td>0.0</td>\n",
       "      <td>18.0</td>\n",
       "      <td>69.0</td>\n",
       "      <td>160.0</td>\n",
       "      <td>737.0</td>\n",
       "    </tr>\n",
       "    <tr>\n",
       "      <th>arrival_date_year</th>\n",
       "      <td>119390.0</td>\n",
       "      <td>NaN</td>\n",
       "      <td>NaN</td>\n",
       "      <td>NaN</td>\n",
       "      <td>2016.156554</td>\n",
       "      <td>0.707476</td>\n",
       "      <td>2015.0</td>\n",
       "      <td>2016.0</td>\n",
       "      <td>2016.0</td>\n",
       "      <td>2017.0</td>\n",
       "      <td>2017.0</td>\n",
       "    </tr>\n",
       "    <tr>\n",
       "      <th>arrival_date_month</th>\n",
       "      <td>119390</td>\n",
       "      <td>12</td>\n",
       "      <td>August</td>\n",
       "      <td>13877</td>\n",
       "      <td>NaN</td>\n",
       "      <td>NaN</td>\n",
       "      <td>NaN</td>\n",
       "      <td>NaN</td>\n",
       "      <td>NaN</td>\n",
       "      <td>NaN</td>\n",
       "      <td>NaN</td>\n",
       "    </tr>\n",
       "    <tr>\n",
       "      <th>arrival_date_week_number</th>\n",
       "      <td>119390.0</td>\n",
       "      <td>NaN</td>\n",
       "      <td>NaN</td>\n",
       "      <td>NaN</td>\n",
       "      <td>27.165173</td>\n",
       "      <td>13.605138</td>\n",
       "      <td>1.0</td>\n",
       "      <td>16.0</td>\n",
       "      <td>28.0</td>\n",
       "      <td>38.0</td>\n",
       "      <td>53.0</td>\n",
       "    </tr>\n",
       "    <tr>\n",
       "      <th>arrival_date_day_of_month</th>\n",
       "      <td>119390.0</td>\n",
       "      <td>NaN</td>\n",
       "      <td>NaN</td>\n",
       "      <td>NaN</td>\n",
       "      <td>15.798241</td>\n",
       "      <td>8.780829</td>\n",
       "      <td>1.0</td>\n",
       "      <td>8.0</td>\n",
       "      <td>16.0</td>\n",
       "      <td>23.0</td>\n",
       "      <td>31.0</td>\n",
       "    </tr>\n",
       "    <tr>\n",
       "      <th>stays_in_weekend_nights</th>\n",
       "      <td>119390.0</td>\n",
       "      <td>NaN</td>\n",
       "      <td>NaN</td>\n",
       "      <td>NaN</td>\n",
       "      <td>0.927599</td>\n",
       "      <td>0.998613</td>\n",
       "      <td>0.0</td>\n",
       "      <td>0.0</td>\n",
       "      <td>1.0</td>\n",
       "      <td>2.0</td>\n",
       "      <td>19.0</td>\n",
       "    </tr>\n",
       "    <tr>\n",
       "      <th>stays_in_week_nights</th>\n",
       "      <td>119390.0</td>\n",
       "      <td>NaN</td>\n",
       "      <td>NaN</td>\n",
       "      <td>NaN</td>\n",
       "      <td>2.500302</td>\n",
       "      <td>1.908286</td>\n",
       "      <td>0.0</td>\n",
       "      <td>1.0</td>\n",
       "      <td>2.0</td>\n",
       "      <td>3.0</td>\n",
       "      <td>50.0</td>\n",
       "    </tr>\n",
       "    <tr>\n",
       "      <th>adults</th>\n",
       "      <td>119390.0</td>\n",
       "      <td>NaN</td>\n",
       "      <td>NaN</td>\n",
       "      <td>NaN</td>\n",
       "      <td>1.856403</td>\n",
       "      <td>0.579261</td>\n",
       "      <td>0.0</td>\n",
       "      <td>2.0</td>\n",
       "      <td>2.0</td>\n",
       "      <td>2.0</td>\n",
       "      <td>55.0</td>\n",
       "    </tr>\n",
       "    <tr>\n",
       "      <th>children</th>\n",
       "      <td>119386.0</td>\n",
       "      <td>NaN</td>\n",
       "      <td>NaN</td>\n",
       "      <td>NaN</td>\n",
       "      <td>0.10389</td>\n",
       "      <td>0.398561</td>\n",
       "      <td>0.0</td>\n",
       "      <td>0.0</td>\n",
       "      <td>0.0</td>\n",
       "      <td>0.0</td>\n",
       "      <td>10.0</td>\n",
       "    </tr>\n",
       "    <tr>\n",
       "      <th>babies</th>\n",
       "      <td>119390.0</td>\n",
       "      <td>NaN</td>\n",
       "      <td>NaN</td>\n",
       "      <td>NaN</td>\n",
       "      <td>0.007949</td>\n",
       "      <td>0.097436</td>\n",
       "      <td>0.0</td>\n",
       "      <td>0.0</td>\n",
       "      <td>0.0</td>\n",
       "      <td>0.0</td>\n",
       "      <td>10.0</td>\n",
       "    </tr>\n",
       "    <tr>\n",
       "      <th>meal</th>\n",
       "      <td>119390</td>\n",
       "      <td>5</td>\n",
       "      <td>BB</td>\n",
       "      <td>92310</td>\n",
       "      <td>NaN</td>\n",
       "      <td>NaN</td>\n",
       "      <td>NaN</td>\n",
       "      <td>NaN</td>\n",
       "      <td>NaN</td>\n",
       "      <td>NaN</td>\n",
       "      <td>NaN</td>\n",
       "    </tr>\n",
       "    <tr>\n",
       "      <th>country</th>\n",
       "      <td>118902</td>\n",
       "      <td>177</td>\n",
       "      <td>PRT</td>\n",
       "      <td>48590</td>\n",
       "      <td>NaN</td>\n",
       "      <td>NaN</td>\n",
       "      <td>NaN</td>\n",
       "      <td>NaN</td>\n",
       "      <td>NaN</td>\n",
       "      <td>NaN</td>\n",
       "      <td>NaN</td>\n",
       "    </tr>\n",
       "    <tr>\n",
       "      <th>market_segment</th>\n",
       "      <td>119390</td>\n",
       "      <td>8</td>\n",
       "      <td>Online TA</td>\n",
       "      <td>56477</td>\n",
       "      <td>NaN</td>\n",
       "      <td>NaN</td>\n",
       "      <td>NaN</td>\n",
       "      <td>NaN</td>\n",
       "      <td>NaN</td>\n",
       "      <td>NaN</td>\n",
       "      <td>NaN</td>\n",
       "    </tr>\n",
       "    <tr>\n",
       "      <th>distribution_channel</th>\n",
       "      <td>119390</td>\n",
       "      <td>5</td>\n",
       "      <td>TA/TO</td>\n",
       "      <td>97870</td>\n",
       "      <td>NaN</td>\n",
       "      <td>NaN</td>\n",
       "      <td>NaN</td>\n",
       "      <td>NaN</td>\n",
       "      <td>NaN</td>\n",
       "      <td>NaN</td>\n",
       "      <td>NaN</td>\n",
       "    </tr>\n",
       "    <tr>\n",
       "      <th>is_repeated_guest</th>\n",
       "      <td>119390.0</td>\n",
       "      <td>NaN</td>\n",
       "      <td>NaN</td>\n",
       "      <td>NaN</td>\n",
       "      <td>0.031912</td>\n",
       "      <td>0.175767</td>\n",
       "      <td>0.0</td>\n",
       "      <td>0.0</td>\n",
       "      <td>0.0</td>\n",
       "      <td>0.0</td>\n",
       "      <td>1.0</td>\n",
       "    </tr>\n",
       "    <tr>\n",
       "      <th>previous_cancellations</th>\n",
       "      <td>119390.0</td>\n",
       "      <td>NaN</td>\n",
       "      <td>NaN</td>\n",
       "      <td>NaN</td>\n",
       "      <td>0.087118</td>\n",
       "      <td>0.844336</td>\n",
       "      <td>0.0</td>\n",
       "      <td>0.0</td>\n",
       "      <td>0.0</td>\n",
       "      <td>0.0</td>\n",
       "      <td>26.0</td>\n",
       "    </tr>\n",
       "    <tr>\n",
       "      <th>previous_bookings_not_canceled</th>\n",
       "      <td>119390.0</td>\n",
       "      <td>NaN</td>\n",
       "      <td>NaN</td>\n",
       "      <td>NaN</td>\n",
       "      <td>0.137097</td>\n",
       "      <td>1.497437</td>\n",
       "      <td>0.0</td>\n",
       "      <td>0.0</td>\n",
       "      <td>0.0</td>\n",
       "      <td>0.0</td>\n",
       "      <td>72.0</td>\n",
       "    </tr>\n",
       "    <tr>\n",
       "      <th>reserved_room_type</th>\n",
       "      <td>119390</td>\n",
       "      <td>10</td>\n",
       "      <td>A</td>\n",
       "      <td>85994</td>\n",
       "      <td>NaN</td>\n",
       "      <td>NaN</td>\n",
       "      <td>NaN</td>\n",
       "      <td>NaN</td>\n",
       "      <td>NaN</td>\n",
       "      <td>NaN</td>\n",
       "      <td>NaN</td>\n",
       "    </tr>\n",
       "    <tr>\n",
       "      <th>assigned_room_type</th>\n",
       "      <td>119390</td>\n",
       "      <td>12</td>\n",
       "      <td>A</td>\n",
       "      <td>74053</td>\n",
       "      <td>NaN</td>\n",
       "      <td>NaN</td>\n",
       "      <td>NaN</td>\n",
       "      <td>NaN</td>\n",
       "      <td>NaN</td>\n",
       "      <td>NaN</td>\n",
       "      <td>NaN</td>\n",
       "    </tr>\n",
       "    <tr>\n",
       "      <th>booking_changes</th>\n",
       "      <td>119390.0</td>\n",
       "      <td>NaN</td>\n",
       "      <td>NaN</td>\n",
       "      <td>NaN</td>\n",
       "      <td>0.221124</td>\n",
       "      <td>0.652306</td>\n",
       "      <td>0.0</td>\n",
       "      <td>0.0</td>\n",
       "      <td>0.0</td>\n",
       "      <td>0.0</td>\n",
       "      <td>21.0</td>\n",
       "    </tr>\n",
       "    <tr>\n",
       "      <th>deposit_type</th>\n",
       "      <td>119390</td>\n",
       "      <td>3</td>\n",
       "      <td>No Deposit</td>\n",
       "      <td>104641</td>\n",
       "      <td>NaN</td>\n",
       "      <td>NaN</td>\n",
       "      <td>NaN</td>\n",
       "      <td>NaN</td>\n",
       "      <td>NaN</td>\n",
       "      <td>NaN</td>\n",
       "      <td>NaN</td>\n",
       "    </tr>\n",
       "    <tr>\n",
       "      <th>agent</th>\n",
       "      <td>103050.0</td>\n",
       "      <td>NaN</td>\n",
       "      <td>NaN</td>\n",
       "      <td>NaN</td>\n",
       "      <td>86.693382</td>\n",
       "      <td>110.774548</td>\n",
       "      <td>1.0</td>\n",
       "      <td>9.0</td>\n",
       "      <td>14.0</td>\n",
       "      <td>229.0</td>\n",
       "      <td>535.0</td>\n",
       "    </tr>\n",
       "    <tr>\n",
       "      <th>company</th>\n",
       "      <td>6797.0</td>\n",
       "      <td>NaN</td>\n",
       "      <td>NaN</td>\n",
       "      <td>NaN</td>\n",
       "      <td>189.266735</td>\n",
       "      <td>131.655015</td>\n",
       "      <td>6.0</td>\n",
       "      <td>62.0</td>\n",
       "      <td>179.0</td>\n",
       "      <td>270.0</td>\n",
       "      <td>543.0</td>\n",
       "    </tr>\n",
       "    <tr>\n",
       "      <th>days_in_waiting_list</th>\n",
       "      <td>119390.0</td>\n",
       "      <td>NaN</td>\n",
       "      <td>NaN</td>\n",
       "      <td>NaN</td>\n",
       "      <td>2.321149</td>\n",
       "      <td>17.594721</td>\n",
       "      <td>0.0</td>\n",
       "      <td>0.0</td>\n",
       "      <td>0.0</td>\n",
       "      <td>0.0</td>\n",
       "      <td>391.0</td>\n",
       "    </tr>\n",
       "    <tr>\n",
       "      <th>customer_type</th>\n",
       "      <td>119390</td>\n",
       "      <td>4</td>\n",
       "      <td>Transient</td>\n",
       "      <td>89613</td>\n",
       "      <td>NaN</td>\n",
       "      <td>NaN</td>\n",
       "      <td>NaN</td>\n",
       "      <td>NaN</td>\n",
       "      <td>NaN</td>\n",
       "      <td>NaN</td>\n",
       "      <td>NaN</td>\n",
       "    </tr>\n",
       "    <tr>\n",
       "      <th>adr</th>\n",
       "      <td>119390.0</td>\n",
       "      <td>NaN</td>\n",
       "      <td>NaN</td>\n",
       "      <td>NaN</td>\n",
       "      <td>101.831122</td>\n",
       "      <td>50.53579</td>\n",
       "      <td>-6.38</td>\n",
       "      <td>69.29</td>\n",
       "      <td>94.575</td>\n",
       "      <td>126.0</td>\n",
       "      <td>5400.0</td>\n",
       "    </tr>\n",
       "    <tr>\n",
       "      <th>required_car_parking_spaces</th>\n",
       "      <td>119390.0</td>\n",
       "      <td>NaN</td>\n",
       "      <td>NaN</td>\n",
       "      <td>NaN</td>\n",
       "      <td>0.062518</td>\n",
       "      <td>0.245291</td>\n",
       "      <td>0.0</td>\n",
       "      <td>0.0</td>\n",
       "      <td>0.0</td>\n",
       "      <td>0.0</td>\n",
       "      <td>8.0</td>\n",
       "    </tr>\n",
       "    <tr>\n",
       "      <th>total_of_special_requests</th>\n",
       "      <td>119390.0</td>\n",
       "      <td>NaN</td>\n",
       "      <td>NaN</td>\n",
       "      <td>NaN</td>\n",
       "      <td>0.571363</td>\n",
       "      <td>0.792798</td>\n",
       "      <td>0.0</td>\n",
       "      <td>0.0</td>\n",
       "      <td>0.0</td>\n",
       "      <td>1.0</td>\n",
       "      <td>5.0</td>\n",
       "    </tr>\n",
       "    <tr>\n",
       "      <th>reservation_status</th>\n",
       "      <td>119390</td>\n",
       "      <td>3</td>\n",
       "      <td>Check-Out</td>\n",
       "      <td>75166</td>\n",
       "      <td>NaN</td>\n",
       "      <td>NaN</td>\n",
       "      <td>NaN</td>\n",
       "      <td>NaN</td>\n",
       "      <td>NaN</td>\n",
       "      <td>NaN</td>\n",
       "      <td>NaN</td>\n",
       "    </tr>\n",
       "    <tr>\n",
       "      <th>reservation_status_date</th>\n",
       "      <td>119390</td>\n",
       "      <td>926</td>\n",
       "      <td>2015-10-21</td>\n",
       "      <td>1461</td>\n",
       "      <td>NaN</td>\n",
       "      <td>NaN</td>\n",
       "      <td>NaN</td>\n",
       "      <td>NaN</td>\n",
       "      <td>NaN</td>\n",
       "      <td>NaN</td>\n",
       "      <td>NaN</td>\n",
       "    </tr>\n",
       "  </tbody>\n",
       "</table>\n",
       "</div>"
      ],
      "text/plain": [
       "                                   count unique         top    freq  \\\n",
       "hotel                             119390      2  City Hotel   79330   \n",
       "is_canceled                     119390.0    NaN         NaN     NaN   \n",
       "lead_time                       119390.0    NaN         NaN     NaN   \n",
       "arrival_date_year               119390.0    NaN         NaN     NaN   \n",
       "arrival_date_month                119390     12      August   13877   \n",
       "arrival_date_week_number        119390.0    NaN         NaN     NaN   \n",
       "arrival_date_day_of_month       119390.0    NaN         NaN     NaN   \n",
       "stays_in_weekend_nights         119390.0    NaN         NaN     NaN   \n",
       "stays_in_week_nights            119390.0    NaN         NaN     NaN   \n",
       "adults                          119390.0    NaN         NaN     NaN   \n",
       "children                        119386.0    NaN         NaN     NaN   \n",
       "babies                          119390.0    NaN         NaN     NaN   \n",
       "meal                              119390      5          BB   92310   \n",
       "country                           118902    177         PRT   48590   \n",
       "market_segment                    119390      8   Online TA   56477   \n",
       "distribution_channel              119390      5       TA/TO   97870   \n",
       "is_repeated_guest               119390.0    NaN         NaN     NaN   \n",
       "previous_cancellations          119390.0    NaN         NaN     NaN   \n",
       "previous_bookings_not_canceled  119390.0    NaN         NaN     NaN   \n",
       "reserved_room_type                119390     10           A   85994   \n",
       "assigned_room_type                119390     12           A   74053   \n",
       "booking_changes                 119390.0    NaN         NaN     NaN   \n",
       "deposit_type                      119390      3  No Deposit  104641   \n",
       "agent                           103050.0    NaN         NaN     NaN   \n",
       "company                           6797.0    NaN         NaN     NaN   \n",
       "days_in_waiting_list            119390.0    NaN         NaN     NaN   \n",
       "customer_type                     119390      4   Transient   89613   \n",
       "adr                             119390.0    NaN         NaN     NaN   \n",
       "required_car_parking_spaces     119390.0    NaN         NaN     NaN   \n",
       "total_of_special_requests       119390.0    NaN         NaN     NaN   \n",
       "reservation_status                119390      3   Check-Out   75166   \n",
       "reservation_status_date           119390    926  2015-10-21    1461   \n",
       "\n",
       "                                       mean         std     min     25%  \\\n",
       "hotel                                   NaN         NaN     NaN     NaN   \n",
       "is_canceled                        0.370416    0.482918     0.0     0.0   \n",
       "lead_time                        104.011416  106.863097     0.0    18.0   \n",
       "arrival_date_year               2016.156554    0.707476  2015.0  2016.0   \n",
       "arrival_date_month                      NaN         NaN     NaN     NaN   \n",
       "arrival_date_week_number          27.165173   13.605138     1.0    16.0   \n",
       "arrival_date_day_of_month         15.798241    8.780829     1.0     8.0   \n",
       "stays_in_weekend_nights            0.927599    0.998613     0.0     0.0   \n",
       "stays_in_week_nights               2.500302    1.908286     0.0     1.0   \n",
       "adults                             1.856403    0.579261     0.0     2.0   \n",
       "children                            0.10389    0.398561     0.0     0.0   \n",
       "babies                             0.007949    0.097436     0.0     0.0   \n",
       "meal                                    NaN         NaN     NaN     NaN   \n",
       "country                                 NaN         NaN     NaN     NaN   \n",
       "market_segment                          NaN         NaN     NaN     NaN   \n",
       "distribution_channel                    NaN         NaN     NaN     NaN   \n",
       "is_repeated_guest                  0.031912    0.175767     0.0     0.0   \n",
       "previous_cancellations             0.087118    0.844336     0.0     0.0   \n",
       "previous_bookings_not_canceled     0.137097    1.497437     0.0     0.0   \n",
       "reserved_room_type                      NaN         NaN     NaN     NaN   \n",
       "assigned_room_type                      NaN         NaN     NaN     NaN   \n",
       "booking_changes                    0.221124    0.652306     0.0     0.0   \n",
       "deposit_type                            NaN         NaN     NaN     NaN   \n",
       "agent                             86.693382  110.774548     1.0     9.0   \n",
       "company                          189.266735  131.655015     6.0    62.0   \n",
       "days_in_waiting_list               2.321149   17.594721     0.0     0.0   \n",
       "customer_type                           NaN         NaN     NaN     NaN   \n",
       "adr                              101.831122    50.53579   -6.38   69.29   \n",
       "required_car_parking_spaces        0.062518    0.245291     0.0     0.0   \n",
       "total_of_special_requests          0.571363    0.792798     0.0     0.0   \n",
       "reservation_status                      NaN         NaN     NaN     NaN   \n",
       "reservation_status_date                 NaN         NaN     NaN     NaN   \n",
       "\n",
       "                                   50%     75%     max  \n",
       "hotel                              NaN     NaN     NaN  \n",
       "is_canceled                        0.0     1.0     1.0  \n",
       "lead_time                         69.0   160.0   737.0  \n",
       "arrival_date_year               2016.0  2017.0  2017.0  \n",
       "arrival_date_month                 NaN     NaN     NaN  \n",
       "arrival_date_week_number          28.0    38.0    53.0  \n",
       "arrival_date_day_of_month         16.0    23.0    31.0  \n",
       "stays_in_weekend_nights            1.0     2.0    19.0  \n",
       "stays_in_week_nights               2.0     3.0    50.0  \n",
       "adults                             2.0     2.0    55.0  \n",
       "children                           0.0     0.0    10.0  \n",
       "babies                             0.0     0.0    10.0  \n",
       "meal                               NaN     NaN     NaN  \n",
       "country                            NaN     NaN     NaN  \n",
       "market_segment                     NaN     NaN     NaN  \n",
       "distribution_channel               NaN     NaN     NaN  \n",
       "is_repeated_guest                  0.0     0.0     1.0  \n",
       "previous_cancellations             0.0     0.0    26.0  \n",
       "previous_bookings_not_canceled     0.0     0.0    72.0  \n",
       "reserved_room_type                 NaN     NaN     NaN  \n",
       "assigned_room_type                 NaN     NaN     NaN  \n",
       "booking_changes                    0.0     0.0    21.0  \n",
       "deposit_type                       NaN     NaN     NaN  \n",
       "agent                             14.0   229.0   535.0  \n",
       "company                          179.0   270.0   543.0  \n",
       "days_in_waiting_list               0.0     0.0   391.0  \n",
       "customer_type                      NaN     NaN     NaN  \n",
       "adr                             94.575   126.0  5400.0  \n",
       "required_car_parking_spaces        0.0     0.0     8.0  \n",
       "total_of_special_requests          0.0     1.0     5.0  \n",
       "reservation_status                 NaN     NaN     NaN  \n",
       "reservation_status_date            NaN     NaN     NaN  "
      ]
     },
     "execution_count": 9,
     "metadata": {},
     "output_type": "execute_result"
    }
   ],
   "source": [
    "df.describe(include=\"all\").T"
   ]
  },
  {
   "cell_type": "markdown",
   "id": "54acadd1",
   "metadata": {
    "papermill": {
     "duration": 0.02563,
     "end_time": "2023-01-21T13:51:43.768005",
     "exception": false,
     "start_time": "2023-01-21T13:51:43.742375",
     "status": "completed"
    },
    "tags": []
   },
   "source": [
    "## Step 2: Cleaning of Data"
   ]
  },
  {
   "cell_type": "markdown",
   "id": "ee3be410",
   "metadata": {
    "papermill": {
     "duration": 0.025654,
     "end_time": "2023-01-21T13:51:43.819865",
     "exception": false,
     "start_time": "2023-01-21T13:51:43.794211",
     "status": "completed"
    },
    "tags": []
   },
   "source": [
    "### handling missing values"
   ]
  },
  {
   "cell_type": "markdown",
   "id": "ecf59e9e",
   "metadata": {
    "papermill": {
     "duration": 0.025825,
     "end_time": "2023-01-21T13:51:43.871953",
     "exception": false,
     "start_time": "2023-01-21T13:51:43.846128",
     "status": "completed"
    },
    "tags": []
   },
   "source": [
    "### checking misssing and null values"
   ]
  },
  {
   "cell_type": "code",
   "execution_count": 10,
   "id": "09d8a152",
   "metadata": {
    "execution": {
     "iopub.execute_input": "2023-01-21T13:51:43.925986Z",
     "iopub.status.busy": "2023-01-21T13:51:43.925539Z",
     "iopub.status.idle": "2023-01-21T13:51:44.000522Z",
     "shell.execute_reply": "2023-01-21T13:51:43.999289Z"
    },
    "papermill": {
     "duration": 0.105445,
     "end_time": "2023-01-21T13:51:44.003523",
     "exception": false,
     "start_time": "2023-01-21T13:51:43.898078",
     "status": "completed"
    },
    "tags": []
   },
   "outputs": [
    {
     "data": {
      "text/plain": [
       "company                           112593\n",
       "agent                              16340\n",
       "country                              488\n",
       "children                               4\n",
       "reserved_room_type                     0\n",
       "assigned_room_type                     0\n",
       "booking_changes                        0\n",
       "deposit_type                           0\n",
       "hotel                                  0\n",
       "previous_cancellations                 0\n",
       "days_in_waiting_list                   0\n",
       "customer_type                          0\n",
       "adr                                    0\n",
       "required_car_parking_spaces            0\n",
       "total_of_special_requests              0\n",
       "reservation_status                     0\n",
       "previous_bookings_not_canceled         0\n",
       "is_repeated_guest                      0\n",
       "is_canceled                            0\n",
       "distribution_channel                   0\n",
       "market_segment                         0\n",
       "meal                                   0\n",
       "babies                                 0\n",
       "adults                                 0\n",
       "stays_in_week_nights                   0\n",
       "stays_in_weekend_nights                0\n",
       "arrival_date_day_of_month              0\n",
       "arrival_date_week_number               0\n",
       "arrival_date_month                     0\n",
       "arrival_date_year                      0\n",
       "lead_time                              0\n",
       "reservation_status_date                0\n",
       "dtype: int64"
      ]
     },
     "execution_count": 10,
     "metadata": {},
     "output_type": "execute_result"
    }
   ],
   "source": [
    "df.isnull().sum().sort_values(ascending=False)"
   ]
  },
  {
   "cell_type": "markdown",
   "id": "4e47f6eb",
   "metadata": {
    "papermill": {
     "duration": 0.025798,
     "end_time": "2023-01-21T13:51:44.055636",
     "exception": false,
     "start_time": "2023-01-21T13:51:44.029838",
     "status": "completed"
    },
    "tags": []
   },
   "source": [
    "#### From above output: there are 4  columns which having missing values.\n",
    "#### company:  contains 82137 missing values\n",
    "#### agent :   contains 12193 missing values\n",
    "#### country : contains  452  missing values\n",
    "#### children: contains  4   missing values"
   ]
  },
  {
   "cell_type": "markdown",
   "id": "c5eefb1f",
   "metadata": {
    "papermill": {
     "duration": 0.025841,
     "end_time": "2023-01-21T13:51:44.107412",
     "exception": false,
     "start_time": "2023-01-21T13:51:44.081571",
     "status": "completed"
    },
    "tags": []
   },
   "source": [
    "## checking missing  values % wheater they are relevant or irrelevant for analysis."
   ]
  },
  {
   "cell_type": "code",
   "execution_count": 11,
   "id": "cc235f78",
   "metadata": {
    "execution": {
     "iopub.execute_input": "2023-01-21T13:51:44.161051Z",
     "iopub.status.busy": "2023-01-21T13:51:44.160657Z",
     "iopub.status.idle": "2023-01-21T13:51:44.234091Z",
     "shell.execute_reply": "2023-01-21T13:51:44.232981Z"
    },
    "papermill": {
     "duration": 0.103082,
     "end_time": "2023-01-21T13:51:44.236462",
     "exception": false,
     "start_time": "2023-01-21T13:51:44.133380",
     "status": "completed"
    },
    "tags": []
   },
   "outputs": [
    {
     "data": {
      "text/plain": [
       "company                           94.306893\n",
       "agent                             13.686238\n",
       "country                            0.408744\n",
       "children                           0.003350\n",
       "reserved_room_type                 0.000000\n",
       "assigned_room_type                 0.000000\n",
       "booking_changes                    0.000000\n",
       "deposit_type                       0.000000\n",
       "hotel                              0.000000\n",
       "previous_cancellations             0.000000\n",
       "days_in_waiting_list               0.000000\n",
       "customer_type                      0.000000\n",
       "adr                                0.000000\n",
       "required_car_parking_spaces        0.000000\n",
       "total_of_special_requests          0.000000\n",
       "reservation_status                 0.000000\n",
       "previous_bookings_not_canceled     0.000000\n",
       "is_repeated_guest                  0.000000\n",
       "is_canceled                        0.000000\n",
       "distribution_channel               0.000000\n",
       "market_segment                     0.000000\n",
       "meal                               0.000000\n",
       "babies                             0.000000\n",
       "adults                             0.000000\n",
       "stays_in_week_nights               0.000000\n",
       "stays_in_weekend_nights            0.000000\n",
       "arrival_date_day_of_month          0.000000\n",
       "arrival_date_week_number           0.000000\n",
       "arrival_date_month                 0.000000\n",
       "arrival_date_year                  0.000000\n",
       "lead_time                          0.000000\n",
       "reservation_status_date            0.000000\n",
       "dtype: float64"
      ]
     },
     "execution_count": 11,
     "metadata": {},
     "output_type": "execute_result"
    }
   ],
   "source": [
    "df.isnull().sum().sort_values(ascending=False)/df.shape[0]*100"
   ]
  },
  {
   "cell_type": "markdown",
   "id": "9751d1ff",
   "metadata": {
    "papermill": {
     "duration": 0.025873,
     "end_time": "2023-01-21T13:51:44.288829",
     "exception": false,
     "start_time": "2023-01-21T13:51:44.262956",
     "status": "completed"
    },
    "tags": []
   },
   "source": [
    "#### company:  contains 94.306 % missing values\n",
    "#### agent :   contains 13.686% missing values\n",
    "#### country : contains  0.408% missing values\n",
    "#### children: contains  0.0033% missing values"
   ]
  },
  {
   "cell_type": "markdown",
   "id": "b16af00f",
   "metadata": {
    "papermill": {
     "duration": 0.025905,
     "end_time": "2023-01-21T13:51:44.340804",
     "exception": false,
     "start_time": "2023-01-21T13:51:44.314899",
     "status": "completed"
    },
    "tags": []
   },
   "source": [
    "#### Tha company column contains 94% of missing values so drop this column as it irelevant for analysis"
   ]
  },
  {
   "cell_type": "code",
   "execution_count": 12,
   "id": "1466228f",
   "metadata": {
    "execution": {
     "iopub.execute_input": "2023-01-21T13:51:44.395353Z",
     "iopub.status.busy": "2023-01-21T13:51:44.394927Z",
     "iopub.status.idle": "2023-01-21T13:51:44.425823Z",
     "shell.execute_reply": "2023-01-21T13:51:44.424778Z"
    },
    "papermill": {
     "duration": 0.061177,
     "end_time": "2023-01-21T13:51:44.428389",
     "exception": false,
     "start_time": "2023-01-21T13:51:44.367212",
     "status": "completed"
    },
    "tags": []
   },
   "outputs": [],
   "source": [
    "df.drop(\"company\",axis=1,inplace=True)"
   ]
  },
  {
   "cell_type": "code",
   "execution_count": 13,
   "id": "b6623a07",
   "metadata": {
    "execution": {
     "iopub.execute_input": "2023-01-21T13:51:44.484449Z",
     "iopub.status.busy": "2023-01-21T13:51:44.483419Z",
     "iopub.status.idle": "2023-01-21T13:51:44.489665Z",
     "shell.execute_reply": "2023-01-21T13:51:44.488895Z"
    },
    "papermill": {
     "duration": 0.03726,
     "end_time": "2023-01-21T13:51:44.491958",
     "exception": false,
     "start_time": "2023-01-21T13:51:44.454698",
     "status": "completed"
    },
    "tags": []
   },
   "outputs": [
    {
     "data": {
      "text/plain": [
       "31"
      ]
     },
     "execution_count": 13,
     "metadata": {},
     "output_type": "execute_result"
    }
   ],
   "source": [
    "len(df.columns)"
   ]
  },
  {
   "cell_type": "markdown",
   "id": "bf333e6d",
   "metadata": {
    "papermill": {
     "duration": 0.026036,
     "end_time": "2023-01-21T13:51:44.544349",
     "exception": false,
     "start_time": "2023-01-21T13:51:44.518313",
     "status": "completed"
    },
    "tags": []
   },
   "source": [
    "#### columns campany has been droped "
   ]
  },
  {
   "cell_type": "markdown",
   "id": "dfa54e5b",
   "metadata": {
    "papermill": {
     "duration": 0.026195,
     "end_time": "2023-01-21T13:51:44.597967",
     "exception": false,
     "start_time": "2023-01-21T13:51:44.571772",
     "status": "completed"
    },
    "tags": []
   },
   "source": [
    "### filling tha missing values in agent column"
   ]
  },
  {
   "cell_type": "code",
   "execution_count": 14,
   "id": "d2615db2",
   "metadata": {
    "execution": {
     "iopub.execute_input": "2023-01-21T13:51:44.653321Z",
     "iopub.status.busy": "2023-01-21T13:51:44.652927Z",
     "iopub.status.idle": "2023-01-21T13:51:44.664920Z",
     "shell.execute_reply": "2023-01-21T13:51:44.663850Z"
    },
    "papermill": {
     "duration": 0.042171,
     "end_time": "2023-01-21T13:51:44.667450",
     "exception": false,
     "start_time": "2023-01-21T13:51:44.625279",
     "status": "completed"
    },
    "tags": []
   },
   "outputs": [
    {
     "data": {
      "text/plain": [
       "array([ nan, 304., 240., 303.,  15., 241.,   8., 250., 115.,   5., 175.,\n",
       "       134., 156., 243., 242.,   3., 105.,  40., 147., 306., 184.,  96.,\n",
       "         2., 127.,  95., 146.,   9., 177.,   6., 143., 244., 149., 167.,\n",
       "       300., 171., 305.,  67., 196., 152., 142., 261., 104.,  36.,  26.,\n",
       "        29., 258., 110.,  71., 181.,  88., 251., 275.,  69., 248., 208.,\n",
       "       256., 314., 126., 281., 273., 253., 185., 330., 334., 328., 326.,\n",
       "       321., 324., 313.,  38., 155.,  68., 335., 308., 332.,  94., 348.,\n",
       "       310., 339., 375.,  66., 327., 387., 298.,  91., 245., 385., 257.,\n",
       "       393., 168., 405., 249., 315.,  75., 128., 307.,  11., 436.,   1.,\n",
       "       201., 183., 223., 368., 336., 291., 464., 411., 481.,  10., 154.,\n",
       "       468., 410., 390., 440., 495., 492., 493., 434.,  57., 531., 420.,\n",
       "       483., 526., 472., 429.,  16., 446.,  34.,  78., 139., 252., 270.,\n",
       "        47., 114., 301., 193., 182., 135., 350., 195., 352., 355., 159.,\n",
       "       363., 384., 360., 331., 367.,  64., 406., 163., 414., 333., 427.,\n",
       "       431., 430., 426., 438., 433., 418., 441., 282., 432.,  72., 450.,\n",
       "       180., 454., 455.,  59., 451., 254., 358., 469., 165., 467., 510.,\n",
       "       337., 476., 502., 527., 479., 508., 535., 302., 497., 187.,  13.,\n",
       "         7.,  27.,  14.,  22.,  17.,  28.,  42.,  20.,  19.,  45.,  37.,\n",
       "        61.,  39.,  21.,  24.,  41.,  50.,  30.,  54.,  52.,  12.,  44.,\n",
       "        31.,  83.,  32.,  63.,  60.,  55.,  56.,  89.,  87., 118.,  86.,\n",
       "        85., 210., 214., 129., 179., 138., 174., 170., 153.,  93., 151.,\n",
       "       119.,  35., 173.,  58.,  53., 133.,  79., 235., 192., 191., 236.,\n",
       "       162., 215., 157., 287., 132., 234.,  98.,  77., 103., 107., 262.,\n",
       "       220., 121., 205., 378.,  23., 296., 290., 229.,  33., 286., 276.,\n",
       "       425., 484., 323., 403., 219., 394., 509., 111., 423.,   4.,  70.,\n",
       "        82.,  81.,  74.,  92.,  99.,  90., 112., 117., 106., 148., 158.,\n",
       "       144., 211., 213., 216., 232., 150., 267., 227., 247., 278., 280.,\n",
       "       285., 289., 269., 295., 265., 288., 122., 294., 325., 341., 344.,\n",
       "       346., 359., 283., 364., 370., 371.,  25., 141., 391., 397., 416.,\n",
       "       404., 299., 197.,  73., 354., 444., 408., 461., 388., 453., 459.,\n",
       "       474., 475., 480., 449.])"
      ]
     },
     "execution_count": 14,
     "metadata": {},
     "output_type": "execute_result"
    }
   ],
   "source": [
    "df[\"agent\"].unique()"
   ]
  },
  {
   "cell_type": "code",
   "execution_count": 15,
   "id": "1fb09851",
   "metadata": {
    "execution": {
     "iopub.execute_input": "2023-01-21T13:51:44.727115Z",
     "iopub.status.busy": "2023-01-21T13:51:44.725961Z",
     "iopub.status.idle": "2023-01-21T13:51:44.749059Z",
     "shell.execute_reply": "2023-01-21T13:51:44.747806Z"
    },
    "papermill": {
     "duration": 0.058097,
     "end_time": "2023-01-21T13:51:44.752461",
     "exception": false,
     "start_time": "2023-01-21T13:51:44.694364",
     "status": "completed"
    },
    "tags": []
   },
   "outputs": [],
   "source": [
    "df[\"agent\"]=df[\"agent\"].fillna(df[\"agent\"].median)"
   ]
  },
  {
   "cell_type": "markdown",
   "id": "0d84592a",
   "metadata": {
    "execution": {
     "iopub.execute_input": "2023-01-18T17:05:28.113325Z",
     "iopub.status.busy": "2023-01-18T17:05:28.112970Z",
     "iopub.status.idle": "2023-01-18T17:05:28.118293Z",
     "shell.execute_reply": "2023-01-18T17:05:28.116890Z",
     "shell.execute_reply.started": "2023-01-18T17:05:28.113299Z"
    },
    "papermill": {
     "duration": 0.027095,
     "end_time": "2023-01-21T13:51:44.812867",
     "exception": false,
     "start_time": "2023-01-21T13:51:44.785772",
     "status": "completed"
    },
    "tags": []
   },
   "source": [
    "#### missing values of agent filled by median "
   ]
  },
  {
   "cell_type": "markdown",
   "id": "20aa3a62",
   "metadata": {
    "papermill": {
     "duration": 0.02927,
     "end_time": "2023-01-21T13:51:44.872422",
     "exception": false,
     "start_time": "2023-01-21T13:51:44.843152",
     "status": "completed"
    },
    "tags": []
   },
   "source": [
    " ### filling tha missing values in  country column"
   ]
  },
  {
   "cell_type": "code",
   "execution_count": 16,
   "id": "66d41917",
   "metadata": {
    "execution": {
     "iopub.execute_input": "2023-01-21T13:51:44.929406Z",
     "iopub.status.busy": "2023-01-21T13:51:44.928569Z",
     "iopub.status.idle": "2023-01-21T13:51:44.950137Z",
     "shell.execute_reply": "2023-01-21T13:51:44.949229Z"
    },
    "papermill": {
     "duration": 0.052544,
     "end_time": "2023-01-21T13:51:44.952815",
     "exception": false,
     "start_time": "2023-01-21T13:51:44.900271",
     "status": "completed"
    },
    "tags": []
   },
   "outputs": [],
   "source": [
    "df[\"country\"]=df[\"country\"].fillna(df[\"country\"].mode()[0])"
   ]
  },
  {
   "cell_type": "markdown",
   "id": "fc5cea0b",
   "metadata": {
    "papermill": {
     "duration": 0.026335,
     "end_time": "2023-01-21T13:51:45.009383",
     "exception": false,
     "start_time": "2023-01-21T13:51:44.983048",
     "status": "completed"
    },
    "tags": []
   },
   "source": [
    "#### missing values of country filled by mode"
   ]
  },
  {
   "cell_type": "markdown",
   "id": "cf311473",
   "metadata": {
    "papermill": {
     "duration": 0.026583,
     "end_time": "2023-01-21T13:51:45.062516",
     "exception": false,
     "start_time": "2023-01-21T13:51:45.035933",
     "status": "completed"
    },
    "tags": []
   },
   "source": [
    " ## filling tha missing values in  children column"
   ]
  },
  {
   "cell_type": "code",
   "execution_count": 17,
   "id": "38c80492",
   "metadata": {
    "execution": {
     "iopub.execute_input": "2023-01-21T13:51:45.129912Z",
     "iopub.status.busy": "2023-01-21T13:51:45.129099Z",
     "iopub.status.idle": "2023-01-21T13:51:45.138332Z",
     "shell.execute_reply": "2023-01-21T13:51:45.137538Z"
    },
    "papermill": {
     "duration": 0.047155,
     "end_time": "2023-01-21T13:51:45.140694",
     "exception": false,
     "start_time": "2023-01-21T13:51:45.093539",
     "status": "completed"
    },
    "tags": []
   },
   "outputs": [],
   "source": [
    "df[\"children\"]=df[\"children\"].fillna(df[\"children\"].median())"
   ]
  },
  {
   "cell_type": "markdown",
   "id": "3a85f701",
   "metadata": {
    "papermill": {
     "duration": 0.026373,
     "end_time": "2023-01-21T13:51:45.193816",
     "exception": false,
     "start_time": "2023-01-21T13:51:45.167443",
     "status": "completed"
    },
    "tags": []
   },
   "source": [
    "#### missing values of children filled by median "
   ]
  },
  {
   "cell_type": "code",
   "execution_count": 18,
   "id": "09ba95d9",
   "metadata": {
    "execution": {
     "iopub.execute_input": "2023-01-21T13:51:45.249525Z",
     "iopub.status.busy": "2023-01-21T13:51:45.248697Z",
     "iopub.status.idle": "2023-01-21T13:51:45.325497Z",
     "shell.execute_reply": "2023-01-21T13:51:45.324175Z"
    },
    "papermill": {
     "duration": 0.107523,
     "end_time": "2023-01-21T13:51:45.328147",
     "exception": false,
     "start_time": "2023-01-21T13:51:45.220624",
     "status": "completed"
    },
    "tags": []
   },
   "outputs": [
    {
     "data": {
      "text/plain": [
       "0"
      ]
     },
     "execution_count": 18,
     "metadata": {},
     "output_type": "execute_result"
    }
   ],
   "source": [
    "df.isnull().sum().sum()"
   ]
  },
  {
   "cell_type": "markdown",
   "id": "ccb66cdf",
   "metadata": {
    "papermill": {
     "duration": 0.026927,
     "end_time": "2023-01-21T13:51:45.382139",
     "exception": false,
     "start_time": "2023-01-21T13:51:45.355212",
     "status": "completed"
    },
    "tags": []
   },
   "source": [
    "### Tha above output 0 which shows that tha data is free from missing values."
   ]
  },
  {
   "cell_type": "markdown",
   "id": "7e377498",
   "metadata": {
    "execution": {
     "iopub.execute_input": "2023-01-20T18:19:12.662255Z",
     "iopub.status.busy": "2023-01-20T18:19:12.661880Z",
     "iopub.status.idle": "2023-01-20T18:19:12.776033Z",
     "shell.execute_reply": "2023-01-20T18:19:12.775139Z",
     "shell.execute_reply.started": "2023-01-20T18:19:12.662225Z"
    },
    "papermill": {
     "duration": 0.026584,
     "end_time": "2023-01-21T13:51:45.436687",
     "exception": false,
     "start_time": "2023-01-21T13:51:45.410103",
     "status": "completed"
    },
    "tags": []
   },
   "source": [
    "## total stay in night"
   ]
  },
  {
   "cell_type": "code",
   "execution_count": 19,
   "id": "602298d3",
   "metadata": {
    "execution": {
     "iopub.execute_input": "2023-01-21T13:51:45.493460Z",
     "iopub.status.busy": "2023-01-21T13:51:45.492718Z",
     "iopub.status.idle": "2023-01-21T13:51:45.506754Z",
     "shell.execute_reply": "2023-01-21T13:51:45.505716Z"
    },
    "papermill": {
     "duration": 0.045688,
     "end_time": "2023-01-21T13:51:45.509263",
     "exception": false,
     "start_time": "2023-01-21T13:51:45.463575",
     "status": "completed"
    },
    "tags": []
   },
   "outputs": [
    {
     "data": {
      "text/plain": [
       "0         0\n",
       "1         0\n",
       "2         1\n",
       "3         1\n",
       "4         2\n",
       "         ..\n",
       "119385    7\n",
       "119386    7\n",
       "119387    7\n",
       "119388    7\n",
       "119389    9\n",
       "Name: total_stay_in_nights, Length: 119390, dtype: int64"
      ]
     },
     "execution_count": 19,
     "metadata": {},
     "output_type": "execute_result"
    }
   ],
   "source": [
    "df[\"total_stay_in_nights\"]=df[\"stays_in_week_nights\"]+df[\"stays_in_weekend_nights\"]\n",
    "df[\"total_stay_in_nights\"]"
   ]
  },
  {
   "cell_type": "markdown",
   "id": "745089c4",
   "metadata": {
    "papermill": {
     "duration": 0.026767,
     "end_time": "2023-01-21T13:51:45.566732",
     "exception": false,
     "start_time": "2023-01-21T13:51:45.539965",
     "status": "completed"
    },
    "tags": []
   },
   "source": [
    "## Step 3: insight from dataset"
   ]
  },
  {
   "cell_type": "markdown",
   "id": "8730b586",
   "metadata": {
    "papermill": {
     "duration": 0.026442,
     "end_time": "2023-01-21T13:51:45.620674",
     "exception": false,
     "start_time": "2023-01-21T13:51:45.594232",
     "status": "completed"
    },
    "tags": []
   },
   "source": [
    "### Checking how many different hotel and costumer types  are there "
   ]
  },
  {
   "cell_type": "code",
   "execution_count": 20,
   "id": "2b5e2615",
   "metadata": {
    "execution": {
     "iopub.execute_input": "2023-01-21T13:51:45.677063Z",
     "iopub.status.busy": "2023-01-21T13:51:45.676608Z",
     "iopub.status.idle": "2023-01-21T13:51:45.692021Z",
     "shell.execute_reply": "2023-01-21T13:51:45.690935Z"
    },
    "papermill": {
     "duration": 0.045721,
     "end_time": "2023-01-21T13:51:45.694122",
     "exception": false,
     "start_time": "2023-01-21T13:51:45.648401",
     "status": "completed"
    },
    "tags": []
   },
   "outputs": [
    {
     "data": {
      "text/plain": [
       "array(['Resort Hotel', 'City Hotel'], dtype=object)"
      ]
     },
     "execution_count": 20,
     "metadata": {},
     "output_type": "execute_result"
    }
   ],
   "source": [
    "df[\"hotel\"].unique()"
   ]
  },
  {
   "cell_type": "code",
   "execution_count": 21,
   "id": "81c8d60e",
   "metadata": {
    "execution": {
     "iopub.execute_input": "2023-01-21T13:51:45.750471Z",
     "iopub.status.busy": "2023-01-21T13:51:45.749779Z",
     "iopub.status.idle": "2023-01-21T13:51:45.766154Z",
     "shell.execute_reply": "2023-01-21T13:51:45.765074Z"
    },
    "papermill": {
     "duration": 0.04729,
     "end_time": "2023-01-21T13:51:45.768308",
     "exception": false,
     "start_time": "2023-01-21T13:51:45.721018",
     "status": "completed"
    },
    "tags": []
   },
   "outputs": [
    {
     "data": {
      "text/plain": [
       "array(['Transient', 'Contract', 'Transient-Party', 'Group'], dtype=object)"
      ]
     },
     "execution_count": 21,
     "metadata": {},
     "output_type": "execute_result"
    }
   ],
   "source": [
    "df[\"customer_type\"].unique()"
   ]
  },
  {
   "cell_type": "markdown",
   "id": "e0a5c430",
   "metadata": {
    "papermill": {
     "duration": 0.026729,
     "end_time": "2023-01-21T13:51:45.822121",
     "exception": false,
     "start_time": "2023-01-21T13:51:45.795392",
     "status": "completed"
    },
    "tags": []
   },
   "source": [
    "## Which agent made most of booking ?"
   ]
  },
  {
   "cell_type": "markdown",
   "id": "20aed8e3",
   "metadata": {
    "papermill": {
     "duration": 0.026665,
     "end_time": "2023-01-21T13:51:45.875891",
     "exception": false,
     "start_time": "2023-01-21T13:51:45.849226",
     "status": "completed"
    },
    "tags": []
   },
   "source": [
    " ## 1: Which meal type is most preffered meal of customers?"
   ]
  },
  {
   "cell_type": "code",
   "execution_count": 22,
   "id": "bb2ac197",
   "metadata": {
    "execution": {
     "iopub.execute_input": "2023-01-21T13:51:45.931944Z",
     "iopub.status.busy": "2023-01-21T13:51:45.931496Z",
     "iopub.status.idle": "2023-01-21T13:51:46.198672Z",
     "shell.execute_reply": "2023-01-21T13:51:46.197476Z"
    },
    "papermill": {
     "duration": 0.298162,
     "end_time": "2023-01-21T13:51:46.201143",
     "exception": false,
     "start_time": "2023-01-21T13:51:45.902981",
     "status": "completed"
    },
    "tags": []
   },
   "outputs": [
    {
     "data": {
      "image/png": "[encoded data removed]",
      "text/plain": [
       "<Figure size 720x576 with 1 Axes>"
      ]
     },
     "metadata": {
      "needs_background": "light"
     },
     "output_type": "display_data"
    }
   ],
   "source": [
    "plt.figure( figsize=(10, 8))\n",
    "sns.countplot(x = df[\"meal\"])\n",
    "plt.show()"
   ]
  },
  {
   "cell_type": "markdown",
   "id": "4ba5efd5",
   "metadata": {
    "papermill": {
     "duration": 0.026856,
     "end_time": "2023-01-21T13:51:46.255724",
     "exception": false,
     "start_time": "2023-01-21T13:51:46.228868",
     "status": "completed"
    },
    "tags": []
   },
   "source": [
    "### Most preferred meal type is BB (Bed and breakfast)."
   ]
  },
  {
   "cell_type": "markdown",
   "id": "4d7a1817",
   "metadata": {
    "papermill": {
     "duration": 0.026603,
     "end_time": "2023-01-21T13:51:46.309313",
     "exception": false,
     "start_time": "2023-01-21T13:51:46.282710",
     "status": "completed"
    },
    "tags": []
   },
   "source": [
    "## 2: which hotel seems to make more revenue?"
   ]
  },
  {
   "cell_type": "code",
   "execution_count": 23,
   "id": "9aff2e84",
   "metadata": {
    "execution": {
     "iopub.execute_input": "2023-01-21T13:51:46.365070Z",
     "iopub.status.busy": "2023-01-21T13:51:46.364634Z",
     "iopub.status.idle": "2023-01-21T13:51:46.394234Z",
     "shell.execute_reply": "2023-01-21T13:51:46.393136Z"
    },
    "papermill": {
     "duration": 0.060384,
     "end_time": "2023-01-21T13:51:46.396810",
     "exception": false,
     "start_time": "2023-01-21T13:51:46.336426",
     "status": "completed"
    },
    "tags": []
   },
   "outputs": [
    {
     "data": {
      "text/html": [
       "<div>\n",
       "<style scoped>\n",
       "    .dataframe tbody tr th:only-of-type {\n",
       "        vertical-align: middle;\n",
       "    }\n",
       "\n",
       "    .dataframe tbody tr th {\n",
       "        vertical-align: top;\n",
       "    }\n",
       "\n",
       "    .dataframe thead th {\n",
       "        text-align: right;\n",
       "    }\n",
       "</style>\n",
       "<table border=\"1\" class=\"dataframe\">\n",
       "  <thead>\n",
       "    <tr style=\"text-align: right;\">\n",
       "      <th></th>\n",
       "      <th>max</th>\n",
       "      <th>min</th>\n",
       "      <th>mean</th>\n",
       "    </tr>\n",
       "    <tr>\n",
       "      <th>hotel</th>\n",
       "      <th></th>\n",
       "      <th></th>\n",
       "      <th></th>\n",
       "    </tr>\n",
       "  </thead>\n",
       "  <tbody>\n",
       "    <tr>\n",
       "      <th>City Hotel</th>\n",
       "      <td>5400.0</td>\n",
       "      <td>0.00</td>\n",
       "      <td>105.304465</td>\n",
       "    </tr>\n",
       "    <tr>\n",
       "      <th>Resort Hotel</th>\n",
       "      <td>508.0</td>\n",
       "      <td>-6.38</td>\n",
       "      <td>94.952930</td>\n",
       "    </tr>\n",
       "  </tbody>\n",
       "</table>\n",
       "</div>"
      ],
      "text/plain": [
       "                 max   min        mean\n",
       "hotel                                 \n",
       "City Hotel    5400.0  0.00  105.304465\n",
       "Resort Hotel   508.0 -6.38   94.952930"
      ]
     },
     "execution_count": 23,
     "metadata": {},
     "output_type": "execute_result"
    }
   ],
   "source": [
    "df.groupby([\"hotel\"])[\"adr\"].agg([\"max\",\"min\",\"mean\"])"
   ]
  },
  {
   "cell_type": "code",
   "execution_count": 24,
   "id": "646fbf90",
   "metadata": {
    "execution": {
     "iopub.execute_input": "2023-01-21T13:51:46.454426Z",
     "iopub.status.busy": "2023-01-21T13:51:46.453355Z",
     "iopub.status.idle": "2023-01-21T13:51:48.104066Z",
     "shell.execute_reply": "2023-01-21T13:51:48.102827Z"
    },
    "papermill": {
     "duration": 1.681781,
     "end_time": "2023-01-21T13:51:48.106587",
     "exception": false,
     "start_time": "2023-01-21T13:51:46.424806",
     "status": "completed"
    },
    "tags": []
   },
   "outputs": [
    {
     "data": {
      "image/png": "[encoded data removed]",
      "text/plain": [
       "<Figure size 576x360 with 1 Axes>"
      ]
     },
     "metadata": {
      "needs_background": "light"
     },
     "output_type": "display_data"
    }
   ],
   "source": [
    "plt.figure(figsize = (8,5))\n",
    "sns.barplot(x=df[\"hotel\"], y=df[\"adr\"])\n",
    "plt.show()"
   ]
  },
  {
   "cell_type": "markdown",
   "id": "4441bfb8",
   "metadata": {
    "papermill": {
     "duration": 0.027442,
     "end_time": "2023-01-21T13:51:48.161888",
     "exception": false,
     "start_time": "2023-01-21T13:51:48.134446",
     "status": "completed"
    },
    "tags": []
   },
   "source": [
    " ###  Avg adr of Resort hotel is slightly lower than that of City hotel. Hence, City hotel seems to be making slightly more revenue."
   ]
  },
  {
   "cell_type": "markdown",
   "id": "fd6534f2",
   "metadata": {
    "papermill": {
     "duration": 0.027278,
     "end_time": "2023-01-21T13:51:48.216701",
     "exception": false,
     "start_time": "2023-01-21T13:51:48.189423",
     "status": "completed"
    },
    "tags": []
   },
   "source": [
    "## 3:  Which hotel has higher lead time?"
   ]
  },
  {
   "cell_type": "code",
   "execution_count": 25,
   "id": "02b937cc",
   "metadata": {
    "execution": {
     "iopub.execute_input": "2023-01-21T13:51:48.274713Z",
     "iopub.status.busy": "2023-01-21T13:51:48.273915Z",
     "iopub.status.idle": "2023-01-21T13:51:48.300483Z",
     "shell.execute_reply": "2023-01-21T13:51:48.299239Z"
    },
    "papermill": {
     "duration": 0.058038,
     "end_time": "2023-01-21T13:51:48.302710",
     "exception": false,
     "start_time": "2023-01-21T13:51:48.244672",
     "status": "completed"
    },
    "tags": []
   },
   "outputs": [
    {
     "data": {
      "text/html": [
       "<div>\n",
       "<style scoped>\n",
       "    .dataframe tbody tr th:only-of-type {\n",
       "        vertical-align: middle;\n",
       "    }\n",
       "\n",
       "    .dataframe tbody tr th {\n",
       "        vertical-align: top;\n",
       "    }\n",
       "\n",
       "    .dataframe thead th {\n",
       "        text-align: right;\n",
       "    }\n",
       "</style>\n",
       "<table border=\"1\" class=\"dataframe\">\n",
       "  <thead>\n",
       "    <tr style=\"text-align: right;\">\n",
       "      <th></th>\n",
       "      <th>hotel</th>\n",
       "      <th>lead_time</th>\n",
       "    </tr>\n",
       "  </thead>\n",
       "  <tbody>\n",
       "    <tr>\n",
       "      <th>0</th>\n",
       "      <td>City Hotel</td>\n",
       "      <td>74.0</td>\n",
       "    </tr>\n",
       "    <tr>\n",
       "      <th>1</th>\n",
       "      <td>Resort Hotel</td>\n",
       "      <td>57.0</td>\n",
       "    </tr>\n",
       "  </tbody>\n",
       "</table>\n",
       "</div>"
      ],
      "text/plain": [
       "          hotel  lead_time\n",
       "0    City Hotel       74.0\n",
       "1  Resort Hotel       57.0"
      ]
     },
     "execution_count": 25,
     "metadata": {},
     "output_type": "execute_result"
    }
   ],
   "source": [
    "df.groupby([\"hotel\"])[\"lead_time\"].median().reset_index()"
   ]
  },
  {
   "cell_type": "code",
   "execution_count": 26,
   "id": "38c43813",
   "metadata": {
    "execution": {
     "iopub.execute_input": "2023-01-21T13:51:48.360621Z",
     "iopub.status.busy": "2023-01-21T13:51:48.359956Z",
     "iopub.status.idle": "2023-01-21T13:51:50.081622Z",
     "shell.execute_reply": "2023-01-21T13:51:50.080800Z"
    },
    "papermill": {
     "duration": 1.753272,
     "end_time": "2023-01-21T13:51:50.083853",
     "exception": false,
     "start_time": "2023-01-21T13:51:48.330581",
     "status": "completed"
    },
    "tags": []
   },
   "outputs": [
    {
     "data": {
      "image/png": "[encoded data removed]",
      "text/plain": [
       "<Figure size 576x360 with 1 Axes>"
      ]
     },
     "metadata": {
      "needs_background": "light"
     },
     "output_type": "display_data"
    }
   ],
   "source": [
    "plt.figure(figsize = (8,5))\n",
    "sns.barplot(x=df[\"hotel\"], y=df[\"lead_time\"])\n",
    "plt.show()"
   ]
  },
  {
   "cell_type": "markdown",
   "id": "f411fdec",
   "metadata": {
    "papermill": {
     "duration": 0.027668,
     "end_time": "2023-01-21T13:51:50.139367",
     "exception": false,
     "start_time": "2023-01-21T13:51:50.111699",
     "status": "completed"
    },
    "tags": []
   },
   "source": [
    "### City hotel has slightly higher median lead time. Also median lead time is significantly higher in each case, this means customers generally plan their hotel visits way to early."
   ]
  },
  {
   "cell_type": "markdown",
   "id": "e6ffab86",
   "metadata": {
    "papermill": {
     "duration": 0.027358,
     "end_time": "2023-01-21T13:51:50.194475",
     "exception": false,
     "start_time": "2023-01-21T13:51:50.167117",
     "status": "completed"
    },
    "tags": []
   },
   "source": [
    "## 4: Which hotel has longer waiting time?"
   ]
  },
  {
   "cell_type": "code",
   "execution_count": 27,
   "id": "61881f07",
   "metadata": {
    "execution": {
     "iopub.execute_input": "2023-01-21T13:51:50.252363Z",
     "iopub.status.busy": "2023-01-21T13:51:50.251663Z",
     "iopub.status.idle": "2023-01-21T13:51:52.016131Z",
     "shell.execute_reply": "2023-01-21T13:51:52.015242Z"
    },
    "papermill": {
     "duration": 1.796094,
     "end_time": "2023-01-21T13:51:52.018461",
     "exception": false,
     "start_time": "2023-01-21T13:51:50.222367",
     "status": "completed"
    },
    "tags": []
   },
   "outputs": [
    {
     "data": {
      "image/png": "[encoded data removed]",
      "text/plain": [
       "<Figure size 576x360 with 1 Axes>"
      ]
     },
     "metadata": {
      "needs_background": "light"
     },
     "output_type": "display_data"
    }
   ],
   "source": [
    "df.groupby([\"hotel\"])[\"days_in_waiting_list\"].mean()\n",
    "plt.figure(figsize = (8,5))\n",
    "sns.barplot(x = df[\"hotel\"], y = df[\"days_in_waiting_list\"] )\n",
    "plt.show()"
   ]
  },
  {
   "cell_type": "markdown",
   "id": "8c88f93b",
   "metadata": {
    "papermill": {
     "duration": 0.028059,
     "end_time": "2023-01-21T13:51:52.075073",
     "exception": false,
     "start_time": "2023-01-21T13:51:52.047014",
     "status": "completed"
    },
    "tags": []
   },
   "source": [
    "### City hotel has significantly longer waiting time, hence City Hotel is much busier than Resort Hotel.\n",
    "\n"
   ]
  },
  {
   "cell_type": "markdown",
   "id": "4fc3eda4",
   "metadata": {
    "papermill": {
     "duration": 0.027818,
     "end_time": "2023-01-21T13:51:52.131020",
     "exception": false,
     "start_time": "2023-01-21T13:51:52.103202",
     "status": "completed"
    },
    "tags": []
   },
   "source": [
    "## 5: From where the most guests are coming ?"
   ]
  },
  {
   "cell_type": "code",
   "execution_count": 28,
   "id": "1a528fb4",
   "metadata": {
    "execution": {
     "iopub.execute_input": "2023-01-21T13:51:52.189967Z",
     "iopub.status.busy": "2023-01-21T13:51:52.189240Z",
     "iopub.status.idle": "2023-01-21T13:51:52.291891Z",
     "shell.execute_reply": "2023-01-21T13:51:52.291033Z"
    },
    "papermill": {
     "duration": 0.134886,
     "end_time": "2023-01-21T13:51:52.294334",
     "exception": false,
     "start_time": "2023-01-21T13:51:52.159448",
     "status": "completed"
    },
    "tags": []
   },
   "outputs": [
    {
     "data": {
      "text/html": [
       "<div>\n",
       "<style scoped>\n",
       "    .dataframe tbody tr th:only-of-type {\n",
       "        vertical-align: middle;\n",
       "    }\n",
       "\n",
       "    .dataframe tbody tr th {\n",
       "        vertical-align: top;\n",
       "    }\n",
       "\n",
       "    .dataframe thead th {\n",
       "        text-align: right;\n",
       "    }\n",
       "</style>\n",
       "<table border=\"1\" class=\"dataframe\">\n",
       "  <thead>\n",
       "    <tr style=\"text-align: right;\">\n",
       "      <th></th>\n",
       "      <th>country</th>\n",
       "      <th>No of guests</th>\n",
       "    </tr>\n",
       "  </thead>\n",
       "  <tbody>\n",
       "    <tr>\n",
       "      <th>0</th>\n",
       "      <td>PRT</td>\n",
       "      <td>21492</td>\n",
       "    </tr>\n",
       "    <tr>\n",
       "      <th>1</th>\n",
       "      <td>GBR</td>\n",
       "      <td>9676</td>\n",
       "    </tr>\n",
       "    <tr>\n",
       "      <th>2</th>\n",
       "      <td>FRA</td>\n",
       "      <td>8481</td>\n",
       "    </tr>\n",
       "    <tr>\n",
       "      <th>3</th>\n",
       "      <td>ESP</td>\n",
       "      <td>6391</td>\n",
       "    </tr>\n",
       "    <tr>\n",
       "      <th>4</th>\n",
       "      <td>DEU</td>\n",
       "      <td>6069</td>\n",
       "    </tr>\n",
       "    <tr>\n",
       "      <th>...</th>\n",
       "      <td>...</td>\n",
       "      <td>...</td>\n",
       "    </tr>\n",
       "    <tr>\n",
       "      <th>160</th>\n",
       "      <td>BHR</td>\n",
       "      <td>1</td>\n",
       "    </tr>\n",
       "    <tr>\n",
       "      <th>161</th>\n",
       "      <td>DJI</td>\n",
       "      <td>1</td>\n",
       "    </tr>\n",
       "    <tr>\n",
       "      <th>162</th>\n",
       "      <td>MLI</td>\n",
       "      <td>1</td>\n",
       "    </tr>\n",
       "    <tr>\n",
       "      <th>163</th>\n",
       "      <td>NPL</td>\n",
       "      <td>1</td>\n",
       "    </tr>\n",
       "    <tr>\n",
       "      <th>164</th>\n",
       "      <td>FRO</td>\n",
       "      <td>1</td>\n",
       "    </tr>\n",
       "  </tbody>\n",
       "</table>\n",
       "<p>165 rows × 2 columns</p>\n",
       "</div>"
      ],
      "text/plain": [
       "    country  No of guests\n",
       "0       PRT         21492\n",
       "1       GBR          9676\n",
       "2       FRA          8481\n",
       "3       ESP          6391\n",
       "4       DEU          6069\n",
       "..      ...           ...\n",
       "160     BHR             1\n",
       "161     DJI             1\n",
       "162     MLI             1\n",
       "163     NPL             1\n",
       "164     FRO             1\n",
       "\n",
       "[165 rows x 2 columns]"
      ]
     },
     "execution_count": 28,
     "metadata": {},
     "output_type": "execute_result"
    }
   ],
   "source": [
    "country_wise_guests = df[df['is_canceled'] == 0]['country'].value_counts().reset_index()\n",
    "country_wise_guests.columns = ['country', 'No of guests']\n",
    "country_wise_guests"
   ]
  },
  {
   "cell_type": "markdown",
   "id": "697a2ac5",
   "metadata": {
    "papermill": {
     "duration": 0.028159,
     "end_time": "2023-01-21T13:51:52.351183",
     "exception": false,
     "start_time": "2023-01-21T13:51:52.323024",
     "status": "completed"
    },
    "tags": []
   },
   "source": [
    "### Most guest are from Portugal and other Europian contries."
   ]
  },
  {
   "cell_type": "markdown",
   "id": "1fa7879b",
   "metadata": {
    "papermill": {
     "duration": 0.028091,
     "end_time": "2023-01-21T13:51:52.407660",
     "exception": false,
     "start_time": "2023-01-21T13:51:52.379569",
     "status": "completed"
    },
    "tags": []
   },
   "source": [
    "## 6: which type of costumers arived most"
   ]
  },
  {
   "cell_type": "code",
   "execution_count": 29,
   "id": "7f6a2517",
   "metadata": {
    "execution": {
     "iopub.execute_input": "2023-01-21T13:51:52.466813Z",
     "iopub.status.busy": "2023-01-21T13:51:52.466334Z",
     "iopub.status.idle": "2023-01-21T13:51:52.483408Z",
     "shell.execute_reply": "2023-01-21T13:51:52.482161Z"
    },
    "papermill": {
     "duration": 0.049817,
     "end_time": "2023-01-21T13:51:52.485993",
     "exception": false,
     "start_time": "2023-01-21T13:51:52.436176",
     "status": "completed"
    },
    "tags": []
   },
   "outputs": [
    {
     "data": {
      "text/plain": [
       "Transient          89613\n",
       "Transient-Party    25124\n",
       "Contract            4076\n",
       "Group                577\n",
       "Name: customer_type, dtype: int64"
      ]
     },
     "execution_count": 29,
     "metadata": {},
     "output_type": "execute_result"
    }
   ],
   "source": [
    "df[\"customer_type\"].value_counts()"
   ]
  },
  {
   "cell_type": "code",
   "execution_count": 30,
   "id": "b7512fbd",
   "metadata": {
    "execution": {
     "iopub.execute_input": "2023-01-21T13:51:52.546234Z",
     "iopub.status.busy": "2023-01-21T13:51:52.545836Z",
     "iopub.status.idle": "2023-01-21T13:51:52.855900Z",
     "shell.execute_reply": "2023-01-21T13:51:52.854687Z"
    },
    "papermill": {
     "duration": 0.342377,
     "end_time": "2023-01-21T13:51:52.858199",
     "exception": false,
     "start_time": "2023-01-21T13:51:52.515822",
     "status": "completed"
    },
    "tags": []
   },
   "outputs": [
    {
     "data": {
      "text/plain": [
       "<AxesSubplot:xlabel='customer_type', ylabel='count'>"
      ]
     },
     "execution_count": 30,
     "metadata": {},
     "output_type": "execute_result"
    },
    {
     "data": {
      "image/png": "[encoded data removed]",
      "text/plain": [
       "<Figure size 432x288 with 1 Axes>"
      ]
     },
     "metadata": {
      "needs_background": "light"
     },
     "output_type": "display_data"
    }
   ],
   "source": [
    "sns.countplot(x=df[\"customer_type\"],data=df)"
   ]
  },
  {
   "cell_type": "markdown",
   "id": "302615a3",
   "metadata": {
    "execution": {
     "iopub.execute_input": "2023-01-20T13:13:30.002155Z",
     "iopub.status.busy": "2023-01-20T13:13:30.000402Z",
     "iopub.status.idle": "2023-01-20T13:13:30.007857Z",
     "shell.execute_reply": "2023-01-20T13:13:30.006469Z",
     "shell.execute_reply.started": "2023-01-20T13:13:30.002089Z"
    },
    "papermill": {
     "duration": 0.028567,
     "end_time": "2023-01-21T13:51:52.915998",
     "exception": false,
     "start_time": "2023-01-21T13:51:52.887431",
     "status": "completed"
    },
    "tags": []
   },
   "source": [
    "#### Most Of The Customers Were Transient type."
   ]
  },
  {
   "cell_type": "markdown",
   "id": "ecb97d00",
   "metadata": {
    "papermill": {
     "duration": 0.029315,
     "end_time": "2023-01-21T13:51:52.974564",
     "exception": false,
     "start_time": "2023-01-21T13:51:52.945249",
     "status": "completed"
    },
    "tags": []
   },
   "source": [
    "## 7: Mamimum cotumers arrival in which year (most of booking done)"
   ]
  },
  {
   "cell_type": "code",
   "execution_count": 31,
   "id": "b9dfc91d",
   "metadata": {
    "execution": {
     "iopub.execute_input": "2023-01-21T13:51:53.034574Z",
     "iopub.status.busy": "2023-01-21T13:51:53.034168Z",
     "iopub.status.idle": "2023-01-21T13:51:53.044331Z",
     "shell.execute_reply": "2023-01-21T13:51:53.043079Z"
    },
    "papermill": {
     "duration": 0.04333,
     "end_time": "2023-01-21T13:51:53.046764",
     "exception": false,
     "start_time": "2023-01-21T13:51:53.003434",
     "status": "completed"
    },
    "tags": []
   },
   "outputs": [
    {
     "data": {
      "text/plain": [
       "2016    0.474973\n",
       "2017    0.340791\n",
       "2015    0.184237\n",
       "Name: arrival_date_year, dtype: float64"
      ]
     },
     "execution_count": 31,
     "metadata": {},
     "output_type": "execute_result"
    }
   ],
   "source": [
    "df[\"arrival_date_year\"].value_counts(normalize=True)"
   ]
  },
  {
   "cell_type": "code",
   "execution_count": 32,
   "id": "daeb1143",
   "metadata": {
    "execution": {
     "iopub.execute_input": "2023-01-21T13:51:53.106799Z",
     "iopub.status.busy": "2023-01-21T13:51:53.106362Z",
     "iopub.status.idle": "2023-01-21T13:51:53.347630Z",
     "shell.execute_reply": "2023-01-21T13:51:53.346460Z"
    },
    "papermill": {
     "duration": 0.274075,
     "end_time": "2023-01-21T13:51:53.349990",
     "exception": false,
     "start_time": "2023-01-21T13:51:53.075915",
     "status": "completed"
    },
    "tags": []
   },
   "outputs": [
    {
     "data": {
      "text/plain": [
       "<AxesSubplot:xlabel='arrival_date_year', ylabel='count'>"
      ]
     },
     "execution_count": 32,
     "metadata": {},
     "output_type": "execute_result"
    },
    {
     "data": {
      "image/png": "[encoded data removed]",
      "text/plain": [
       "<Figure size 432x288 with 1 Axes>"
      ]
     },
     "metadata": {
      "needs_background": "light"
     },
     "output_type": "display_data"
    }
   ],
   "source": [
    "sns.countplot(x=df[\"arrival_date_year\"],data=df)"
   ]
  },
  {
   "cell_type": "markdown",
   "id": "c941f7b2",
   "metadata": {
    "papermill": {
     "duration": 0.029089,
     "end_time": "2023-01-21T13:51:53.408460",
     "exception": false,
     "start_time": "2023-01-21T13:51:53.379371",
     "status": "completed"
    },
    "tags": []
   },
   "source": [
    "### 47% bookings were done in 2016, 34% in 2017 and 18 percent in 2015.. We can see increasing tendency in bookings year wise"
   ]
  },
  {
   "cell_type": "markdown",
   "id": "8c572372",
   "metadata": {
    "papermill": {
     "duration": 0.030237,
     "end_time": "2023-01-21T13:51:53.468389",
     "exception": false,
     "start_time": "2023-01-21T13:51:53.438152",
     "status": "completed"
    },
    "tags": []
   },
   "source": [
    "## 8: maximum costumers arrived in which month."
   ]
  },
  {
   "cell_type": "code",
   "execution_count": 33,
   "id": "77cd89ea",
   "metadata": {
    "execution": {
     "iopub.execute_input": "2023-01-21T13:51:53.530988Z",
     "iopub.status.busy": "2023-01-21T13:51:53.529824Z",
     "iopub.status.idle": "2023-01-21T13:51:53.546595Z",
     "shell.execute_reply": "2023-01-21T13:51:53.545395Z"
    },
    "papermill": {
     "duration": 0.05085,
     "end_time": "2023-01-21T13:51:53.548812",
     "exception": false,
     "start_time": "2023-01-21T13:51:53.497962",
     "status": "completed"
    },
    "tags": []
   },
   "outputs": [
    {
     "data": {
      "text/plain": [
       "August       13877\n",
       "July         12661\n",
       "May          11791\n",
       "October      11160\n",
       "April        11089\n",
       "June         10939\n",
       "September    10508\n",
       "March         9794\n",
       "February      8068\n",
       "November      6794\n",
       "December      6780\n",
       "January       5929\n",
       "Name: arrival_date_month, dtype: int64"
      ]
     },
     "execution_count": 33,
     "metadata": {},
     "output_type": "execute_result"
    }
   ],
   "source": [
    "df[\"arrival_date_month\"].value_counts()"
   ]
  },
  {
   "cell_type": "code",
   "execution_count": 34,
   "id": "a5ba66a9",
   "metadata": {
    "execution": {
     "iopub.execute_input": "2023-01-21T13:51:53.610067Z",
     "iopub.status.busy": "2023-01-21T13:51:53.609370Z",
     "iopub.status.idle": "2023-01-21T13:51:53.977578Z",
     "shell.execute_reply": "2023-01-21T13:51:53.976453Z"
    },
    "papermill": {
     "duration": 0.401544,
     "end_time": "2023-01-21T13:51:53.980057",
     "exception": false,
     "start_time": "2023-01-21T13:51:53.578513",
     "status": "completed"
    },
    "tags": []
   },
   "outputs": [
    {
     "data": {
      "image/png": "[encoded data removed]",
      "text/plain": [
       "<Figure size 720x360 with 1 Axes>"
      ]
     },
     "metadata": {
      "needs_background": "light"
     },
     "output_type": "display_data"
    }
   ],
   "source": [
    "plt.figure(figsize=(10,5))\n",
    "sns.countplot(x='arrival_date_month', data=df)\n",
    "plt.xticks(rotation=45)\n",
    "plt.title('Arrival Month', weight='bold')\n",
    "plt.xlabel('Months', fontsize=12)\n",
    "plt.ylabel('Count', fontsize=12);"
   ]
  },
  {
   "cell_type": "markdown",
   "id": "1ab530f0",
   "metadata": {
    "execution": {
     "iopub.execute_input": "2023-01-20T19:10:40.012076Z",
     "iopub.status.busy": "2023-01-20T19:10:40.011640Z",
     "iopub.status.idle": "2023-01-20T19:10:40.016362Z",
     "shell.execute_reply": "2023-01-20T19:10:40.015446Z",
     "shell.execute_reply.started": "2023-01-20T19:10:40.012013Z"
    },
    "papermill": {
     "duration": 0.029653,
     "end_time": "2023-01-21T13:51:54.039623",
     "exception": false,
     "start_time": "2023-01-21T13:51:54.009970",
     "status": "completed"
    },
    "tags": []
   },
   "source": [
    "### The above graph is showing the number of bookings for each month. According to that, August is the busiest month and January is the most unoccupied month. It is half as busy as August."
   ]
  },
  {
   "cell_type": "markdown",
   "id": "ecd7506d",
   "metadata": {
    "papermill": {
     "duration": 0.029452,
     "end_time": "2023-01-21T13:51:54.098910",
     "exception": false,
     "start_time": "2023-01-21T13:51:54.069458",
     "status": "completed"
    },
    "tags": []
   },
   "source": [
    "## 9: looking into tha type of deposite "
   ]
  },
  {
   "cell_type": "code",
   "execution_count": 35,
   "id": "1362b756",
   "metadata": {
    "execution": {
     "iopub.execute_input": "2023-01-21T13:51:54.161292Z",
     "iopub.status.busy": "2023-01-21T13:51:54.160037Z",
     "iopub.status.idle": "2023-01-21T13:51:54.465953Z",
     "shell.execute_reply": "2023-01-21T13:51:54.464754Z"
    },
    "papermill": {
     "duration": 0.339882,
     "end_time": "2023-01-21T13:51:54.468598",
     "exception": false,
     "start_time": "2023-01-21T13:51:54.128716",
     "status": "completed"
    },
    "tags": []
   },
   "outputs": [
    {
     "data": {
      "text/plain": [
       "<AxesSubplot:xlabel='deposit_type', ylabel='count'>"
      ]
     },
     "execution_count": 35,
     "metadata": {},
     "output_type": "execute_result"
    },
    {
     "data": {
      "image/png": "[encoded data removed]",
      "text/plain": [
       "<Figure size 432x288 with 1 Axes>"
      ]
     },
     "metadata": {
      "needs_background": "light"
     },
     "output_type": "display_data"
    }
   ],
   "source": [
    "sns.countplot(x=df[\"deposit_type\"],data=df)"
   ]
  },
  {
   "cell_type": "markdown",
   "id": "c076038d",
   "metadata": {
    "papermill": {
     "duration": 0.031393,
     "end_time": "2023-01-21T13:51:54.530478",
     "exception": false,
     "start_time": "2023-01-21T13:51:54.499085",
     "status": "completed"
    },
    "tags": []
   },
   "source": [
    "### Majority of the booking does not require deposit. That could explain why cancellation rate was actually 50% of non-cancellation rate."
   ]
  },
  {
   "cell_type": "code",
   "execution_count": 36,
   "id": "0a64e190",
   "metadata": {
    "execution": {
     "iopub.execute_input": "2023-01-21T13:51:54.594148Z",
     "iopub.status.busy": "2023-01-21T13:51:54.593447Z",
     "iopub.status.idle": "2023-01-21T13:51:56.948110Z",
     "shell.execute_reply": "2023-01-21T13:51:56.946964Z"
    },
    "papermill": {
     "duration": 2.389058,
     "end_time": "2023-01-21T13:51:56.950963",
     "exception": false,
     "start_time": "2023-01-21T13:51:54.561905",
     "status": "completed"
    },
    "tags": []
   },
   "outputs": [
    {
     "data": {
      "text/plain": [
       "<AxesSubplot:>"
      ]
     },
     "execution_count": 36,
     "metadata": {},
     "output_type": "execute_result"
    },
    {
     "data": {
      "image/png": "[encoded data removed]",
      "text/plain": [
       "<Figure size 864x576 with 2 Axes>"
      ]
     },
     "metadata": {
      "needs_background": "light"
     },
     "output_type": "display_data"
    }
   ],
   "source": [
    "plt.figure(figsize=(12,8))\n",
    "sns.heatmap(df.corr(),annot=True,cmap='RdYlGn')"
   ]
  },
  {
   "cell_type": "markdown",
   "id": "33898e99",
   "metadata": {
    "papermill": {
     "duration": 0.033388,
     "end_time": "2023-01-21T13:51:57.018736",
     "exception": false,
     "start_time": "2023-01-21T13:51:56.985348",
     "status": "completed"
    },
    "tags": []
   },
   "source": [
    "  ## 10: How many Bookings were Cancelled at the Hotel"
   ]
  },
  {
   "cell_type": "code",
   "execution_count": 37,
   "id": "00dd9237",
   "metadata": {
    "execution": {
     "iopub.execute_input": "2023-01-21T13:51:57.088205Z",
     "iopub.status.busy": "2023-01-21T13:51:57.087522Z",
     "iopub.status.idle": "2023-01-21T13:51:57.340415Z",
     "shell.execute_reply": "2023-01-21T13:51:57.339620Z"
    },
    "papermill": {
     "duration": 0.289698,
     "end_time": "2023-01-21T13:51:57.342483",
     "exception": false,
     "start_time": "2023-01-21T13:51:57.052785",
     "status": "completed"
    },
    "tags": []
   },
   "outputs": [
    {
     "data": {
      "text/plain": [
       "<AxesSubplot:xlabel='is_canceled', ylabel='count'>"
      ]
     },
     "execution_count": 37,
     "metadata": {},
     "output_type": "execute_result"
    },
    {
     "data": {
      "image/png": "[encoded data removed]",
      "text/plain": [
       "<Figure size 432x288 with 1 Axes>"
      ]
     },
     "metadata": {
      "needs_background": "light"
     },
     "output_type": "display_data"
    }
   ],
   "source": [
    "sns.countplot(x=df[\"is_canceled\"],data=df)"
   ]
  },
  {
   "cell_type": "code",
   "execution_count": 38,
   "id": "08894ed4",
   "metadata": {
    "execution": {
     "iopub.execute_input": "2023-01-21T13:51:57.413091Z",
     "iopub.status.busy": "2023-01-21T13:51:57.412376Z",
     "iopub.status.idle": "2023-01-21T13:51:57.421341Z",
     "shell.execute_reply": "2023-01-21T13:51:57.420586Z"
    },
    "papermill": {
     "duration": 0.046822,
     "end_time": "2023-01-21T13:51:57.423314",
     "exception": false,
     "start_time": "2023-01-21T13:51:57.376492",
     "status": "completed"
    },
    "tags": []
   },
   "outputs": [
    {
     "data": {
      "text/plain": [
       "0    0.629584\n",
       "1    0.370416\n",
       "Name: is_canceled, dtype: float64"
      ]
     },
     "execution_count": 38,
     "metadata": {},
     "output_type": "execute_result"
    }
   ],
   "source": [
    "df['is_canceled'].value_counts(normalize = True)"
   ]
  },
  {
   "cell_type": "markdown",
   "id": "a0007f11",
   "metadata": {
    "execution": {
     "iopub.execute_input": "2023-01-20T13:32:30.716148Z",
     "iopub.status.busy": "2023-01-20T13:32:30.715747Z",
     "iopub.status.idle": "2023-01-20T13:32:30.721737Z",
     "shell.execute_reply": "2023-01-20T13:32:30.720362Z",
     "shell.execute_reply.started": "2023-01-20T13:32:30.716117Z"
    },
    "papermill": {
     "duration": 0.033711,
     "end_time": "2023-01-21T13:51:57.491267",
     "exception": false,
     "start_time": "2023-01-21T13:51:57.457556",
     "status": "completed"
    },
    "tags": []
   },
   "source": [
    "## 11: Which hotel have more cancellations?\n"
   ]
  },
  {
   "cell_type": "code",
   "execution_count": 39,
   "id": "52c17e9b",
   "metadata": {
    "execution": {
     "iopub.execute_input": "2023-01-21T13:51:57.568289Z",
     "iopub.status.busy": "2023-01-21T13:51:57.567473Z",
     "iopub.status.idle": "2023-01-21T13:51:59.464763Z",
     "shell.execute_reply": "2023-01-21T13:51:59.463619Z"
    },
    "papermill": {
     "duration": 1.940028,
     "end_time": "2023-01-21T13:51:59.467152",
     "exception": false,
     "start_time": "2023-01-21T13:51:57.527124",
     "status": "completed"
    },
    "tags": []
   },
   "outputs": [
    {
     "data": {
      "text/plain": [
       "<AxesSubplot:xlabel='hotel', ylabel='is_canceled'>"
      ]
     },
     "execution_count": 39,
     "metadata": {},
     "output_type": "execute_result"
    },
    {
     "data": {
      "image/png": "[encoded data removed]",
      "text/plain": [
       "<Figure size 432x288 with 1 Axes>"
      ]
     },
     "metadata": {
      "needs_background": "light"
     },
     "output_type": "display_data"
    }
   ],
   "source": [
    "sns.barplot(data=df,x=\"hotel\",y=\"is_canceled\")"
   ]
  },
  {
   "cell_type": "code",
   "execution_count": null,
   "id": "c3023d78",
   "metadata": {
    "papermill": {
     "duration": 0.03583,
     "end_time": "2023-01-21T13:51:59.537711",
     "exception": false,
     "start_time": "2023-01-21T13:51:59.501881",
     "status": "completed"
    },
    "tags": []
   },
   "outputs": [],
   "source": []
  },
  {
   "cell_type": "code",
   "execution_count": null,
   "id": "7f2d24a2",
   "metadata": {
    "papermill": {
     "duration": 0.034397,
     "end_time": "2023-01-21T13:51:59.607006",
     "exception": false,
     "start_time": "2023-01-21T13:51:59.572609",
     "status": "completed"
    },
    "tags": []
   },
   "outputs": [],
   "source": []
  },
  {
   "cell_type": "code",
   "execution_count": 40,
   "id": "4cad680a",
   "metadata": {
    "execution": {
     "iopub.execute_input": "2023-01-21T13:51:59.677165Z",
     "iopub.status.busy": "2023-01-21T13:51:59.676467Z",
     "iopub.status.idle": "2023-01-21T13:51:59.995455Z",
     "shell.execute_reply": "2023-01-21T13:51:59.994386Z"
    },
    "papermill": {
     "duration": 0.357313,
     "end_time": "2023-01-21T13:51:59.997979",
     "exception": false,
     "start_time": "2023-01-21T13:51:59.640666",
     "status": "completed"
    },
    "tags": []
   },
   "outputs": [
    {
     "data": {
      "text/plain": [
       "<AxesSubplot:xlabel='reservation_status', ylabel='count'>"
      ]
     },
     "execution_count": 40,
     "metadata": {},
     "output_type": "execute_result"
    },
    {
     "data": {
      "image/png": "[encoded data removed]",
      "text/plain": [
       "<Figure size 432x288 with 1 Axes>"
      ]
     },
     "metadata": {
      "needs_background": "light"
     },
     "output_type": "display_data"
    }
   ],
   "source": [
    "sns.countplot(x=df[\"reservation_status\"],data=df)"
   ]
  },
  {
   "cell_type": "code",
   "execution_count": 41,
   "id": "62bcd8e7",
   "metadata": {
    "execution": {
     "iopub.execute_input": "2023-01-21T13:52:00.069614Z",
     "iopub.status.busy": "2023-01-21T13:52:00.068521Z",
     "iopub.status.idle": "2023-01-21T13:52:00.382375Z",
     "shell.execute_reply": "2023-01-21T13:52:00.381207Z"
    },
    "papermill": {
     "duration": 0.352679,
     "end_time": "2023-01-21T13:52:00.385123",
     "exception": false,
     "start_time": "2023-01-21T13:52:00.032444",
     "status": "completed"
    },
    "tags": []
   },
   "outputs": [
    {
     "data": {
      "text/plain": [
       "<AxesSubplot:xlabel='meal', ylabel='count'>"
      ]
     },
     "execution_count": 41,
     "metadata": {},
     "output_type": "execute_result"
    },
    {
     "data": {
      "image/png": "[encoded data removed]",
      "text/plain": [
       "<Figure size 432x288 with 1 Axes>"
      ]
     },
     "metadata": {
      "needs_background": "light"
     },
     "output_type": "display_data"
    }
   ],
   "source": [
    "sns.countplot(x=df[\"meal\"],data=df)"
   ]
  },
  {
   "cell_type": "code",
   "execution_count": null,
   "id": "cdbdd2ae",
   "metadata": {
    "papermill": {
     "duration": 0.034514,
     "end_time": "2023-01-21T13:52:00.454483",
     "exception": false,
     "start_time": "2023-01-21T13:52:00.419969",
     "status": "completed"
    },
    "tags": []
   },
   "outputs": [],
   "source": []
  },
  {
   "cell_type": "code",
   "execution_count": 42,
   "id": "069e190d",
   "metadata": {
    "execution": {
     "iopub.execute_input": "2023-01-21T13:52:00.527101Z",
     "iopub.status.busy": "2023-01-21T13:52:00.526349Z",
     "iopub.status.idle": "2023-01-21T13:52:00.817455Z",
     "shell.execute_reply": "2023-01-21T13:52:00.816637Z"
    },
    "papermill": {
     "duration": 0.330512,
     "end_time": "2023-01-21T13:52:00.819596",
     "exception": false,
     "start_time": "2023-01-21T13:52:00.489084",
     "status": "completed"
    },
    "tags": []
   },
   "outputs": [
    {
     "data": {
      "text/plain": [
       "<AxesSubplot:xlabel='total_of_special_requests', ylabel='count'>"
      ]
     },
     "execution_count": 42,
     "metadata": {},
     "output_type": "execute_result"
    },
    {
     "data": {
      "image/png": "[encoded data removed]",
      "text/plain": [
       "<Figure size 432x288 with 1 Axes>"
      ]
     },
     "metadata": {
      "needs_background": "light"
     },
     "output_type": "display_data"
    }
   ],
   "source": [
    "sns.countplot(x=df[\"total_of_special_requests\"],data=df)"
   ]
  },
  {
   "cell_type": "code",
   "execution_count": null,
   "id": "0c6dfc24",
   "metadata": {
    "papermill": {
     "duration": 0.034406,
     "end_time": "2023-01-21T13:52:00.888951",
     "exception": false,
     "start_time": "2023-01-21T13:52:00.854545",
     "status": "completed"
    },
    "tags": []
   },
   "outputs": [],
   "source": []
  },
  {
   "cell_type": "markdown",
   "id": "d713f32d",
   "metadata": {
    "papermill": {
     "duration": 0.034991,
     "end_time": "2023-01-21T13:52:00.958503",
     "exception": false,
     "start_time": "2023-01-21T13:52:00.923512",
     "status": "completed"
    },
    "tags": []
   },
   "source": [
    "## Canceleation rate in each hotel "
   ]
  },
  {
   "cell_type": "code",
   "execution_count": 43,
   "id": "b4543fdd",
   "metadata": {
    "execution": {
     "iopub.execute_input": "2023-01-21T13:52:01.032522Z",
     "iopub.status.busy": "2023-01-21T13:52:01.031507Z",
     "iopub.status.idle": "2023-01-21T13:52:01.331601Z",
     "shell.execute_reply": "2023-01-21T13:52:01.330506Z"
    },
    "papermill": {
     "duration": 0.340178,
     "end_time": "2023-01-21T13:52:01.334012",
     "exception": false,
     "start_time": "2023-01-21T13:52:00.993834",
     "status": "completed"
    },
    "tags": []
   },
   "outputs": [
    {
     "data": {
      "image/png": "[encoded data removed]",
      "text/plain": [
       "<Figure size 864x432 with 1 Axes>"
      ]
     },
     "metadata": {
      "needs_background": "light"
     },
     "output_type": "display_data"
    }
   ],
   "source": [
    "plt.figure(figsize=(12, 6))\n",
    "sns.countplot(x=\"hotel\",hue=\"is_canceled\", data=df,palette='Pastel1')\n",
    "plt.title(\"Cancelation rates in City hotel and Resort hotel\",fontweight=\"bold\",size=12)\n",
    "plt.show()"
   ]
  },
  {
   "cell_type": "markdown",
   "id": "cda6d37f",
   "metadata": {
    "papermill": {
     "duration": 0.036174,
     "end_time": "2023-01-21T13:52:01.405279",
     "exception": false,
     "start_time": "2023-01-21T13:52:01.369105",
     "status": "completed"
    },
    "tags": []
   },
   "source": [
    "### Most bookings were in city hotel\n",
    "### Cancelations in Resort hotel is less compared to city hotel\n"
   ]
  },
  {
   "cell_type": "code",
   "execution_count": null,
   "id": "5ab1e0c4",
   "metadata": {
    "execution": {
     "iopub.execute_input": "2023-01-21T06:17:33.331398Z",
     "iopub.status.busy": "2023-01-21T06:17:33.330957Z",
     "iopub.status.idle": "2023-01-21T06:17:33.338955Z",
     "shell.execute_reply": "2023-01-21T06:17:33.337805Z",
     "shell.execute_reply.started": "2023-01-21T06:17:33.331360Z"
    },
    "papermill": {
     "duration": 0.035744,
     "end_time": "2023-01-21T13:52:01.476512",
     "exception": false,
     "start_time": "2023-01-21T13:52:01.440768",
     "status": "completed"
    },
    "tags": []
   },
   "outputs": [],
   "source": []
  },
  {
   "cell_type": "code",
   "execution_count": 44,
   "id": "f5f24237",
   "metadata": {
    "execution": {
     "iopub.execute_input": "2023-01-21T13:52:01.556587Z",
     "iopub.status.busy": "2023-01-21T13:52:01.555702Z",
     "iopub.status.idle": "2023-01-21T13:52:02.109359Z",
     "shell.execute_reply": "2023-01-21T13:52:02.108131Z"
    },
    "papermill": {
     "duration": 0.59947,
     "end_time": "2023-01-21T13:52:02.111900",
     "exception": false,
     "start_time": "2023-01-21T13:52:01.512430",
     "status": "completed"
    },
    "tags": []
   },
   "outputs": [
    {
     "data": {
      "image/png": "[encoded data removed]",
      "text/plain": [
       "<Figure size 1080x576 with 2 Axes>"
      ]
     },
     "metadata": {
      "needs_background": "light"
     },
     "output_type": "display_data"
    }
   ],
   "source": [
    "plt.figure(figsize=(15, 8))\n",
    "plt.subplot(1, 2, 1)\n",
    "sns.countplot(x=\"arrival_date_year\",hue=\"hotel\", data=df,palette='husl')\n",
    "plt.title(\"Arrivals per year in Both hotels \",fontweight=\"bold\", size=20)\n",
    "plt.subplot(1, 2, 2)\n",
    "sns.countplot(data =df, x =\"arrival_date_month\")\n",
    "plt.xticks(rotation=45)\n",
    "plt.title('Arrivals per month',fontweight=\"bold\", size=20)\n",
    "plt.show()\n"
   ]
  },
  {
   "cell_type": "markdown",
   "id": "e5eaeb7f",
   "metadata": {
    "papermill": {
     "duration": 0.035675,
     "end_time": "2023-01-21T13:52:02.184376",
     "exception": false,
     "start_time": "2023-01-21T13:52:02.148701",
     "status": "completed"
    },
    "tags": []
   },
   "source": [
    "### We can see most of the bookings were in the year 2016 and bookings were doine in City hotel\n",
    "### Most bookings were done in the month of May,June, July, August"
   ]
  },
  {
   "cell_type": "code",
   "execution_count": 45,
   "id": "48d4b3de",
   "metadata": {
    "execution": {
     "iopub.execute_input": "2023-01-21T13:52:02.258412Z",
     "iopub.status.busy": "2023-01-21T13:52:02.257191Z",
     "iopub.status.idle": "2023-01-21T13:52:02.455403Z",
     "shell.execute_reply": "2023-01-21T13:52:02.454541Z"
    },
    "papermill": {
     "duration": 0.237618,
     "end_time": "2023-01-21T13:52:02.457717",
     "exception": false,
     "start_time": "2023-01-21T13:52:02.220099",
     "status": "completed"
    },
    "tags": []
   },
   "outputs": [
    {
     "data": {
      "image/png": "[encoded data removed]",
      "text/plain": [
       "<Figure size 576x432 with 1 Axes>"
      ]
     },
     "metadata": {
      "needs_background": "light"
     },
     "output_type": "display_data"
    }
   ],
   "source": [
    "plt.figure(figsize=(8,6))\n",
    "sns.countplot(data = df, x = \"is_repeated_guest\")\n",
    "plt.title(\"Graph showing whether guest is repeated guest\", fontsize = 20)\n",
    "plt.show()"
   ]
  },
  {
   "cell_type": "markdown",
   "id": "4a333ca5",
   "metadata": {
    "papermill": {
     "duration": 0.036224,
     "end_time": "2023-01-21T13:52:02.530937",
     "exception": false,
     "start_time": "2023-01-21T13:52:02.494713",
     "status": "completed"
    },
    "tags": []
   },
   "source": [
    "### Low number of repeated guests.\n",
    "### A need to target repeated guests since they have booked before. "
   ]
  },
  {
   "cell_type": "markdown",
   "id": "e1cb31a0",
   "metadata": {
    "papermill": {
     "duration": 0.0377,
     "end_time": "2023-01-21T13:52:02.607036",
     "exception": false,
     "start_time": "2023-01-21T13:52:02.569336",
     "status": "completed"
    },
    "tags": []
   },
   "source": [
    "### adr :- average daily rate with arivel months,"
   ]
  },
  {
   "cell_type": "code",
   "execution_count": 46,
   "id": "46bed58c",
   "metadata": {
    "execution": {
     "iopub.execute_input": "2023-01-21T13:52:02.683294Z",
     "iopub.status.busy": "2023-01-21T13:52:02.682498Z",
     "iopub.status.idle": "2023-01-21T13:52:04.945314Z",
     "shell.execute_reply": "2023-01-21T13:52:04.944077Z"
    },
    "papermill": {
     "duration": 2.30364,
     "end_time": "2023-01-21T13:52:04.948032",
     "exception": false,
     "start_time": "2023-01-21T13:52:02.644392",
     "status": "completed"
    },
    "tags": []
   },
   "outputs": [
    {
     "data": {
      "image/png": "[encoded data removed]",
      "text/plain": [
       "<Figure size 864x432 with 1 Axes>"
      ]
     },
     "metadata": {
      "needs_background": "light"
     },
     "output_type": "display_data"
    }
   ],
   "source": [
    "plt.figure(figsize=(12,6))\n",
    "sns.lineplot(x=\"arrival_date_month\", y=\"adr\", hue=\"hotel\", data=df);\n"
   ]
  },
  {
   "cell_type": "markdown",
   "id": "5ffdcee0",
   "metadata": {
    "papermill": {
     "duration": 0.036894,
     "end_time": "2023-01-21T13:52:05.022048",
     "exception": false,
     "start_time": "2023-01-21T13:52:04.985154",
     "status": "completed"
    },
    "tags": []
   },
   "source": [
    "### For Resort Hotel, ADR is more expensive during July, August & September and for City Hotel, ADR is slightly more during March, April & May."
   ]
  },
  {
   "cell_type": "code",
   "execution_count": 47,
   "id": "7a6eae41",
   "metadata": {
    "execution": {
     "iopub.execute_input": "2023-01-21T13:52:05.099981Z",
     "iopub.status.busy": "2023-01-21T13:52:05.099256Z",
     "iopub.status.idle": "2023-01-21T13:52:05.613292Z",
     "shell.execute_reply": "2023-01-21T13:52:05.612108Z"
    },
    "papermill": {
     "duration": 0.55523,
     "end_time": "2023-01-21T13:52:05.615647",
     "exception": false,
     "start_time": "2023-01-21T13:52:05.060417",
     "status": "completed"
    },
    "tags": []
   },
   "outputs": [
    {
     "data": {
      "image/png": "[encoded data removed]",
      "text/plain": [
       "<Figure size 1080x576 with 2 Axes>"
      ]
     },
     "metadata": {
      "needs_background": "light"
     },
     "output_type": "display_data"
    }
   ],
   "source": [
    "plt.figure(figsize=(15, 8))\n",
    "plt.subplot(1, 2, 1)\n",
    "sns.countplot(x=\"market_segment\", data=df, palette='rocket')\n",
    "plt.title(\"TYPE OF MARKET SEGMENTS\",fontweight=\"bold\", size=20)\n",
    "\n",
    "plt.subplot(1, 2, 2)\n",
    "sns.countplot(data=df, x =\"distribution_channel\",palette=\"Set1_r\")\n",
    "plt.title(\" Types of distribution channels\",fontweight=\"bold\", size=20)\n",
    "plt.subplots_adjust(right=1.7)\n",
    "plt.show()"
   ]
  },
  {
   "cell_type": "markdown",
   "id": "5a9d7ea7",
   "metadata": {
    "papermill": {
     "duration": 0.038275,
     "end_time": "2023-01-21T13:52:05.691435",
     "exception": false,
     "start_time": "2023-01-21T13:52:05.653160",
     "status": "completed"
    },
    "tags": []
   },
   "source": [
    "####  Majority DIstribution channels and Market segment were Travel agencies wither offline/online. So better focus more on this"
   ]
  },
  {
   "cell_type": "code",
   "execution_count": 48,
   "id": "6c4554bd",
   "metadata": {
    "execution": {
     "iopub.execute_input": "2023-01-21T13:52:05.768975Z",
     "iopub.status.busy": "2023-01-21T13:52:05.768516Z",
     "iopub.status.idle": "2023-01-21T13:52:06.130426Z",
     "shell.execute_reply": "2023-01-21T13:52:06.129230Z"
    },
    "papermill": {
     "duration": 0.403867,
     "end_time": "2023-01-21T13:52:06.132830",
     "exception": false,
     "start_time": "2023-01-21T13:52:05.728963",
     "status": "completed"
    },
    "tags": []
   },
   "outputs": [
    {
     "data": {
      "image/png": "[encoded data removed]",
      "text/plain": [
       "<Figure size 864x432 with 1 Axes>"
      ]
     },
     "metadata": {
      "needs_background": "light"
     },
     "output_type": "display_data"
    }
   ],
   "source": [
    "plt.figure(figsize=(12, 6))\n",
    "sns.countplot(data =df, x = \"deposit_type\",hue=\"hotel\", palette=\"cool\")\n",
    "plt.title(\"Types of Deposit type\",fontweight=\"bold\", size=20)\n",
    "plt.show()"
   ]
  },
  {
   "cell_type": "markdown",
   "id": "56ea7901",
   "metadata": {
    "execution": {
     "iopub.execute_input": "2023-01-21T04:05:40.924138Z",
     "iopub.status.busy": "2023-01-21T04:05:40.923732Z",
     "iopub.status.idle": "2023-01-21T04:05:40.928757Z",
     "shell.execute_reply": "2023-01-21T04:05:40.927800Z",
     "shell.execute_reply.started": "2023-01-21T04:05:40.924107Z"
    },
    "papermill": {
     "duration": 0.03884,
     "end_time": "2023-01-21T13:52:06.210460",
     "exception": false,
     "start_time": "2023-01-21T13:52:06.171620",
     "status": "completed"
    },
    "tags": []
   },
   "source": [
    "#### There was no deposit for City hotel where as Resorts had some deposits. No deposit may lead to cancel the bookings"
   ]
  },
  {
   "cell_type": "code",
   "execution_count": 49,
   "id": "f75e4987",
   "metadata": {
    "execution": {
     "iopub.execute_input": "2023-01-21T13:52:06.292412Z",
     "iopub.status.busy": "2023-01-21T13:52:06.291212Z",
     "iopub.status.idle": "2023-01-21T13:52:06.933927Z",
     "shell.execute_reply": "2023-01-21T13:52:06.932930Z"
    },
    "papermill": {
     "duration": 0.686376,
     "end_time": "2023-01-21T13:52:06.936523",
     "exception": false,
     "start_time": "2023-01-21T13:52:06.250147",
     "status": "completed"
    },
    "tags": []
   },
   "outputs": [
    {
     "data": {
      "image/png": "[encoded data removed]",
      "text/plain": [
       "<Figure size 1296x720 with 2 Axes>"
      ]
     },
     "metadata": {
      "needs_background": "light"
     },
     "output_type": "display_data"
    }
   ],
   "source": [
    "plt.figure(figsize=(18,10))\n",
    "plt.subplot(1, 2, 1)\n",
    "sns.countplot(x=\"adults\",hue=\"hotel\", data=df, palette=\"pastel\")\n",
    "plt.title(\"Number of adults in both hotels\",fontweight=\"bold\", size=20)\n",
    "plt.subplot(1, 2, 2)\n",
    "sns.countplot(data=df, x = \"adults\", hue=\"is_canceled\", palette=\"husl\")\n",
    "plt.title(\"Adults vs Cancelations\",fontweight=\"bold\", size=20)\n",
    "plt.show()    #subplots_adjust(right=1.7)"
   ]
  },
  {
   "cell_type": "markdown",
   "id": "1c969861",
   "metadata": {
    "papermill": {
     "duration": 0.038066,
     "end_time": "2023-01-21T13:52:07.013317",
     "exception": false,
     "start_time": "2023-01-21T13:52:06.975251",
     "status": "completed"
    },
    "tags": []
   },
   "source": [
    "### Adults who were 2 in number are more and preferred city hotel rather than resort hotel, infact more than half the visitors even canceled the bookings"
   ]
  },
  {
   "cell_type": "code",
   "execution_count": 50,
   "id": "b6f8066b",
   "metadata": {
    "execution": {
     "iopub.execute_input": "2023-01-21T13:52:07.095249Z",
     "iopub.status.busy": "2023-01-21T13:52:07.094827Z",
     "iopub.status.idle": "2023-01-21T13:52:08.181907Z",
     "shell.execute_reply": "2023-01-21T13:52:08.180777Z"
    },
    "papermill": {
     "duration": 1.131535,
     "end_time": "2023-01-21T13:52:08.184607",
     "exception": false,
     "start_time": "2023-01-21T13:52:07.053072",
     "status": "completed"
    },
    "tags": []
   },
   "outputs": [
    {
     "data": {
      "image/png": "[encoded data removed]",
      "text/plain": [
       "<Figure size 1080x576 with 2 Axes>"
      ]
     },
     "metadata": {
      "needs_background": "light"
     },
     "output_type": "display_data"
    }
   ],
   "source": [
    "plt.figure(figsize=(15, 8))\n",
    "plt.subplot(1, 2, 1)\n",
    "sns.countplot(x=\"stays_in_week_nights\",hue=\"hotel\", data=df)\n",
    "plt.title(\"Number of stays on weekday nights\",fontweight=\"bold\", size=20)\n",
    "plt.subplot(1, 2, 2)\n",
    "sns.countplot(data = df, x = \"stays_in_week_nights\",hue=\"is_canceled\")\n",
    "plt.title(\"WeekStay vs Cancelations\",fontweight=\"bold\", size=20)\n",
    "plt.show()    "
   ]
  },
  {
   "cell_type": "markdown",
   "id": "6644baa3",
   "metadata": {
    "execution": {
     "iopub.execute_input": "2023-01-21T04:34:14.806588Z",
     "iopub.status.busy": "2023-01-21T04:34:14.805752Z",
     "iopub.status.idle": "2023-01-21T04:34:14.812102Z",
     "shell.execute_reply": "2023-01-21T04:34:14.810510Z",
     "shell.execute_reply.started": "2023-01-21T04:34:14.806529Z"
    },
    "papermill": {
     "duration": 0.038952,
     "end_time": "2023-01-21T13:52:08.263426",
     "exception": false,
     "start_time": "2023-01-21T13:52:08.224474",
     "status": "completed"
    },
    "tags": []
   },
   "source": [
    "### Weekday night stays were more in City Hotel\n",
    "### Less cancelations were observed"
   ]
  },
  {
   "cell_type": "code",
   "execution_count": 51,
   "id": "635528b4",
   "metadata": {
    "execution": {
     "iopub.execute_input": "2023-01-21T13:52:08.344619Z",
     "iopub.status.busy": "2023-01-21T13:52:08.343924Z",
     "iopub.status.idle": "2023-01-21T13:52:08.532010Z",
     "shell.execute_reply": "2023-01-21T13:52:08.530550Z"
    },
    "papermill": {
     "duration": 0.232565,
     "end_time": "2023-01-21T13:52:08.535430",
     "exception": false,
     "start_time": "2023-01-21T13:52:08.302865",
     "status": "completed"
    },
    "tags": []
   },
   "outputs": [
    {
     "name": "stderr",
     "output_type": "stream",
     "text": [
      "/opt/conda/lib/python3.7/site-packages/seaborn/_decorators.py:43: FutureWarning: Pass the following variable as a keyword arg: x. From version 0.12, the only valid positional argument will be `data`, and passing other arguments without an explicit keyword will result in an error or misinterpretation.\n",
      "  FutureWarning\n"
     ]
    },
    {
     "data": {
      "image/png": "[encoded data removed]",
      "text/plain": [
       "<Figure size 432x288 with 1 Axes>"
      ]
     },
     "metadata": {
      "needs_background": "light"
     },
     "output_type": "display_data"
    }
   ],
   "source": [
    "canceled_data = df[\"is_canceled\"]\n",
    "sns.countplot(canceled_data, palette='husl')\n",
    "plt.show()"
   ]
  },
  {
   "cell_type": "markdown",
   "id": "01b13466",
   "metadata": {
    "execution": {
     "iopub.execute_input": "2023-01-21T04:50:49.540240Z",
     "iopub.status.busy": "2023-01-21T04:50:49.539845Z",
     "iopub.status.idle": "2023-01-21T04:50:49.544529Z",
     "shell.execute_reply": "2023-01-21T04:50:49.543660Z",
     "shell.execute_reply.started": "2023-01-21T04:50:49.540211Z"
    },
    "papermill": {
     "duration": 0.04082,
     "end_time": "2023-01-21T13:52:08.620312",
     "exception": false,
     "start_time": "2023-01-21T13:52:08.579492",
     "status": "completed"
    },
    "tags": []
   },
   "source": [
    "### Majority of bookings were not canceled, still some half of the bookings were canceled"
   ]
  },
  {
   "cell_type": "code",
   "execution_count": 52,
   "id": "2d328202",
   "metadata": {
    "execution": {
     "iopub.execute_input": "2023-01-21T13:52:08.704210Z",
     "iopub.status.busy": "2023-01-21T13:52:08.703143Z",
     "iopub.status.idle": "2023-01-21T13:52:09.067960Z",
     "shell.execute_reply": "2023-01-21T13:52:09.066341Z"
    },
    "papermill": {
     "duration": 0.411058,
     "end_time": "2023-01-21T13:52:09.072057",
     "exception": false,
     "start_time": "2023-01-21T13:52:08.660999",
     "status": "completed"
    },
    "tags": []
   },
   "outputs": [
    {
     "data": {
      "text/plain": [
       "<AxesSubplot:ylabel='is_canceled'>"
      ]
     },
     "execution_count": 52,
     "metadata": {},
     "output_type": "execute_result"
    },
    {
     "data": {
      "image/png": "[encoded data removed]",
      "text/plain": [
       "<Figure size 1080x576 with 1 Axes>"
      ]
     },
     "metadata": {},
     "output_type": "display_data"
    }
   ],
   "source": [
    "plt.figure(figsize=(15, 8))\n",
    "cols = ['gold', 'pink']\n",
    "df['is_canceled'].value_counts().plot.pie(autopct='%1.1f%%',shadow=True, colors=cols)"
   ]
  },
  {
   "cell_type": "markdown",
   "id": "3ac35a02",
   "metadata": {
    "papermill": {
     "duration": 0.040301,
     "end_time": "2023-01-21T13:52:09.183185",
     "exception": false,
     "start_time": "2023-01-21T13:52:09.142884",
     "status": "completed"
    },
    "tags": []
   },
   "source": [
    "### According to the pie chart, 63% of bookings were not canceled and 37% of the bookings were canceled at the Hotel."
   ]
  },
  {
   "cell_type": "code",
   "execution_count": null,
   "id": "4cc2f0ae",
   "metadata": {
    "papermill": {
     "duration": 0.040301,
     "end_time": "2023-01-21T13:52:09.264071",
     "exception": false,
     "start_time": "2023-01-21T13:52:09.223770",
     "status": "completed"
    },
    "tags": []
   },
   "outputs": [],
   "source": []
  },
  {
   "cell_type": "code",
   "execution_count": 53,
   "id": "5cac37a8",
   "metadata": {
    "execution": {
     "iopub.execute_input": "2023-01-21T13:52:09.348846Z",
     "iopub.status.busy": "2023-01-21T13:52:09.347793Z",
     "iopub.status.idle": "2023-01-21T13:52:09.965228Z",
     "shell.execute_reply": "2023-01-21T13:52:09.964362Z"
    },
    "papermill": {
     "duration": 0.662583,
     "end_time": "2023-01-21T13:52:09.967544",
     "exception": false,
     "start_time": "2023-01-21T13:52:09.304961",
     "status": "completed"
    },
    "tags": []
   },
   "outputs": [
    {
     "data": {
      "image/png": "[encoded data removed]",
      "text/plain": [
       "<Figure size 1080x360 with 1 Axes>"
      ]
     },
     "metadata": {
      "needs_background": "light"
     },
     "output_type": "display_data"
    }
   ],
   "source": [
    "plt.figure(figsize=(15,5))\n",
    "\n",
    "sns.countplot(data = df, x = 'arrival_date_day_of_month', hue = 'hotel')\n",
    "plt.title('Graph showing number of arrival per day', fontsize = 20);"
   ]
  },
  {
   "cell_type": "markdown",
   "id": "d6f0bf55",
   "metadata": {
    "papermill": {
     "duration": 0.041164,
     "end_time": "2023-01-21T13:52:10.050588",
     "exception": false,
     "start_time": "2023-01-21T13:52:10.009424",
     "status": "completed"
    },
    "tags": []
   },
   "source": [
    "### I can see that 2016 seems to be the year where hotel booking is at its highest. We also see an increasing trend in booking around the middle of the year, with August being the highest. Summer ends around August, followed straight by autumn. It seems that summer period is a peak period for hotel booking."
   ]
  },
  {
   "cell_type": "code",
   "execution_count": 54,
   "id": "003fed32",
   "metadata": {
    "execution": {
     "iopub.execute_input": "2023-01-21T13:52:10.135520Z",
     "iopub.status.busy": "2023-01-21T13:52:10.134255Z",
     "iopub.status.idle": "2023-01-21T13:52:10.438240Z",
     "shell.execute_reply": "2023-01-21T13:52:10.436956Z"
    },
    "papermill": {
     "duration": 0.348817,
     "end_time": "2023-01-21T13:52:10.440675",
     "exception": false,
     "start_time": "2023-01-21T13:52:10.091858",
     "status": "completed"
    },
    "tags": []
   },
   "outputs": [
    {
     "data": {
      "text/plain": [
       "Text(0.5, 1.0, 'Number of stays on weekend nights')"
      ]
     },
     "execution_count": 54,
     "metadata": {},
     "output_type": "execute_result"
    },
    {
     "data": {
      "image/png": "[encoded data removed]",
      "text/plain": [
       "<Figure size 432x288 with 1 Axes>"
      ]
     },
     "metadata": {
      "needs_background": "light"
     },
     "output_type": "display_data"
    }
   ],
   "source": [
    "sns.countplot(data = df, x = 'stays_in_weekend_nights')\n",
    "plt.title('Number of stays on weekend nights', fontsize = 20)"
   ]
  },
  {
   "cell_type": "code",
   "execution_count": 55,
   "id": "e621d23d",
   "metadata": {
    "execution": {
     "iopub.execute_input": "2023-01-21T13:52:10.527087Z",
     "iopub.status.busy": "2023-01-21T13:52:10.525878Z",
     "iopub.status.idle": "2023-01-21T13:52:10.955953Z",
     "shell.execute_reply": "2023-01-21T13:52:10.954798Z"
    },
    "papermill": {
     "duration": 0.475808,
     "end_time": "2023-01-21T13:52:10.958330",
     "exception": false,
     "start_time": "2023-01-21T13:52:10.482522",
     "status": "completed"
    },
    "tags": []
   },
   "outputs": [
    {
     "data": {
      "text/plain": [
       "Text(0.5, 1.0, 'Number of stays on weekday night')"
      ]
     },
     "execution_count": 55,
     "metadata": {},
     "output_type": "execute_result"
    },
    {
     "data": {
      "image/png": "[encoded data removed]",
      "text/plain": [
       "<Figure size 432x288 with 1 Axes>"
      ]
     },
     "metadata": {
      "needs_background": "light"
     },
     "output_type": "display_data"
    }
   ],
   "source": [
    "sns.countplot(data = df, x = 'stays_in_week_nights' )\n",
    "plt.title('Number of stays on weekday night' , fontsize = 20)"
   ]
  },
  {
   "cell_type": "markdown",
   "id": "ed9c897c",
   "metadata": {
    "papermill": {
     "duration": 0.041976,
     "end_time": "2023-01-21T13:52:11.043487",
     "exception": false,
     "start_time": "2023-01-21T13:52:11.001511",
     "status": "completed"
    },
    "tags": []
   },
   "source": [
    "### It seems that majority of the stays are over the weekday's night. Hence, it seems that whatever we saw for the chart on day of the month was random."
   ]
  },
  {
   "cell_type": "code",
   "execution_count": 56,
   "id": "38c9c73a",
   "metadata": {
    "execution": {
     "iopub.execute_input": "2023-01-21T13:52:11.131609Z",
     "iopub.status.busy": "2023-01-21T13:52:11.130568Z",
     "iopub.status.idle": "2023-01-21T13:52:11.455152Z",
     "shell.execute_reply": "2023-01-21T13:52:11.454031Z"
    },
    "papermill": {
     "duration": 0.371678,
     "end_time": "2023-01-21T13:52:11.457728",
     "exception": false,
     "start_time": "2023-01-21T13:52:11.086050",
     "status": "completed"
    },
    "tags": []
   },
   "outputs": [
    {
     "data": {
      "text/plain": [
       "Text(0.5, 1.0, 'Number of children')"
      ]
     },
     "execution_count": 56,
     "metadata": {},
     "output_type": "execute_result"
    },
    {
     "data": {
      "image/png": "[encoded data removed]",
      "text/plain": [
       "<Figure size 432x288 with 1 Axes>"
      ]
     },
     "metadata": {
      "needs_background": "light"
     },
     "output_type": "display_data"
    }
   ],
   "source": [
    "sns.countplot(data = df, x = 'children', hue = 'hotel')\n",
    "plt.title(\"Number of children\", fontsize = 20)"
   ]
  },
  {
   "cell_type": "code",
   "execution_count": 57,
   "id": "1db05c69",
   "metadata": {
    "execution": {
     "iopub.execute_input": "2023-01-21T13:52:11.544886Z",
     "iopub.status.busy": "2023-01-21T13:52:11.544198Z",
     "iopub.status.idle": "2023-01-21T13:52:11.874158Z",
     "shell.execute_reply": "2023-01-21T13:52:11.873008Z"
    },
    "papermill": {
     "duration": 0.376775,
     "end_time": "2023-01-21T13:52:11.876734",
     "exception": false,
     "start_time": "2023-01-21T13:52:11.499959",
     "status": "completed"
    },
    "tags": []
   },
   "outputs": [
    {
     "data": {
      "text/plain": [
       "Text(0.5, 1.0, 'Number of babies')"
      ]
     },
     "execution_count": 57,
     "metadata": {},
     "output_type": "execute_result"
    },
    {
     "data": {
      "image/png": "[encoded data removed]",
      "text/plain": [
       "<Figure size 432x288 with 1 Axes>"
      ]
     },
     "metadata": {
      "needs_background": "light"
     },
     "output_type": "display_data"
    }
   ],
   "source": [
    "sns.countplot(data = df, x = 'babies', hue = 'hotel')\n",
    "plt.title(\"Number of babies\", fontsize = 20)"
   ]
  },
  {
   "cell_type": "markdown",
   "id": "73289d41",
   "metadata": {
    "papermill": {
     "duration": 0.042126,
     "end_time": "2023-01-21T13:52:11.961549",
     "exception": false,
     "start_time": "2023-01-21T13:52:11.919423",
     "status": "completed"
    },
    "tags": []
   },
   "source": [
    " ### itm seems that majority of the visitors travel in pair. Thos that travel with children or babies have no specific preference for the type of hotel. We do see that those bringing babies along prefer resort hotels."
   ]
  },
  {
   "cell_type": "markdown",
   "id": "5c011dfe",
   "metadata": {
    "execution": {
     "iopub.execute_input": "2023-01-21T13:39:39.131376Z",
     "iopub.status.busy": "2023-01-21T13:39:39.130345Z",
     "iopub.status.idle": "2023-01-21T13:39:39.136637Z",
     "shell.execute_reply": "2023-01-21T13:39:39.135004Z",
     "shell.execute_reply.started": "2023-01-21T13:39:39.131337Z"
    },
    "papermill": {
     "duration": 0.042427,
     "end_time": "2023-01-21T13:52:12.046770",
     "exception": false,
     "start_time": "2023-01-21T13:52:12.004343",
     "status": "completed"
    },
    "tags": []
   },
   "source": [
    "## looking into market segments and distribution channel"
   ]
  },
  {
   "cell_type": "code",
   "execution_count": 58,
   "id": "bf1c12f4",
   "metadata": {
    "execution": {
     "iopub.execute_input": "2023-01-21T13:52:12.134404Z",
     "iopub.status.busy": "2023-01-21T13:52:12.133474Z",
     "iopub.status.idle": "2023-01-21T13:52:12.452134Z",
     "shell.execute_reply": "2023-01-21T13:52:12.451250Z"
    },
    "papermill": {
     "duration": 0.365242,
     "end_time": "2023-01-21T13:52:12.454490",
     "exception": false,
     "start_time": "2023-01-21T13:52:12.089248",
     "status": "completed"
    },
    "tags": []
   },
   "outputs": [
    {
     "data": {
      "text/plain": [
       "Text(0.5, 1.0, 'Types of market segment')"
      ]
     },
     "execution_count": 58,
     "metadata": {},
     "output_type": "execute_result"
    },
    {
     "data": {
      "image/png": "[encoded data removed]",
      "text/plain": [
       "<Figure size 864x360 with 1 Axes>"
      ]
     },
     "metadata": {
      "needs_background": "light"
     },
     "output_type": "display_data"
    }
   ],
   "source": [
    "plt.figure(figsize=(12,5))\n",
    "sns.countplot(data =df, x = 'market_segment')\n",
    "plt.title('Types of market segment', fontsize = 20)"
   ]
  },
  {
   "cell_type": "markdown",
   "id": "09c6d0f6",
   "metadata": {
    "papermill": {
     "duration": 0.045972,
     "end_time": "2023-01-21T13:52:12.543646",
     "exception": false,
     "start_time": "2023-01-21T13:52:12.497674",
     "status": "completed"
    },
    "tags": []
   },
   "source": [
    "### Majority of the distribution channels and market segments involve travel agencies (online or offline).\n",
    " ### We can target our marketing area to be on these travel agencies website and work with them since majority of the visitors tend to reach out to them."
   ]
  },
  {
   "cell_type": "code",
   "execution_count": 59,
   "id": "8b5ba430",
   "metadata": {
    "execution": {
     "iopub.execute_input": "2023-01-21T13:52:12.652300Z",
     "iopub.status.busy": "2023-01-21T13:52:12.651908Z",
     "iopub.status.idle": "2023-01-21T13:52:12.855306Z",
     "shell.execute_reply": "2023-01-21T13:52:12.854473Z"
    },
    "papermill": {
     "duration": 0.260734,
     "end_time": "2023-01-21T13:52:12.857701",
     "exception": false,
     "start_time": "2023-01-21T13:52:12.596967",
     "status": "completed"
    },
    "tags": []
   },
   "outputs": [
    {
     "data": {
      "text/plain": [
       "<AxesSubplot:>"
      ]
     },
     "execution_count": 59,
     "metadata": {},
     "output_type": "execute_result"
    },
    {
     "data": {
      "image/png": "[encoded data removed]",
      "text/plain": [
       "<Figure size 432x288 with 1 Axes>"
      ]
     },
     "metadata": {
      "needs_background": "light"
     },
     "output_type": "display_data"
    }
   ],
   "source": [
    "df['adr_pp'] = df['adr'] / (df['adults'] + df['children']) \n",
    "actual_guests = df.loc[df[\"is_canceled\"] == 'not_canceled']\n",
    "actual_guests['price'] = actual_guests['adr'] * (actual_guests['stays_in_weekend_nights'] + actual_guests['stays_in_week_nights'])\n",
    "sns.lineplot(data = actual_guests, x = 'arrival_date_month', y = 'price', hue = 'hotel')"
   ]
  },
  {
   "cell_type": "markdown",
   "id": "83e4b892",
   "metadata": {
    "papermill": {
     "duration": 0.043145,
     "end_time": "2023-01-21T13:52:12.944293",
     "exception": false,
     "start_time": "2023-01-21T13:52:12.901148",
     "status": "completed"
    },
    "tags": []
   },
   "source": [
    "## Summary\n",
    "### 1: Majority of the hotels booked are city hotel. Definitely need to spend the most targeting fund on those hotel.\n",
    "### 2: We also realise that the high rate of cancellations can be due high no deposit policies.\n",
    "### 3: We should also target months between May to Aug. Those are peak months due to the summer period.\n",
    "### 4: majority of the guests are from Western Europe. We should spend a significant amount of our budget on those area.\n",
    "### 5:  Given that we do not have repeated guests, we should target our advertisement on guests to increase returning guests"
   ]
  },
  {
   "cell_type": "code",
   "execution_count": null,
   "id": "11fbd486",
   "metadata": {
    "papermill": {
     "duration": 0.042969,
     "end_time": "2023-01-21T13:52:13.030443",
     "exception": false,
     "start_time": "2023-01-21T13:52:12.987474",
     "status": "completed"
    },
    "tags": []
   },
   "outputs": [],
   "source": []
  }
 ],
 "metadata": {
  "kernelspec": {
   "display_name": "Python 3",
   "language": "python",
   "name": "python3"
  },
  "language_info": {
   "codemirror_mode": {
    "name": "ipython",
    "version": 3
   },
   "file_extension": ".py",
   "mimetype": "text/x-python",
   "name": "python",
   "nbconvert_exporter": "python",
   "pygments_lexer": "ipython3",
   "version": "3.7.12"
  },
  "papermill": {
   "default_parameters": {},
   "duration": 43.224699,
   "end_time": "2023-01-21T13:52:13.895721",
   "environment_variables": {},
   "exception": null,
   "input_path": "__notebook__.ipynb",
   "output_path": "__notebook__.ipynb",
   "parameters": {},
   "start_time": "2023-01-21T13:51:30.671022",
   "version": "2.3.4"
  }
 },
 "nbformat": 4,
 "nbformat_minor": 5
}
